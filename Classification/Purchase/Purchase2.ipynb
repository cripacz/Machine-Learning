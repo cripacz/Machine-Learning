{
 "cells": [
  {
   "cell_type": "markdown",
   "metadata": {},
   "source": [
    "## Importing libraries and reading data (to show the results of the analysis, we use the learning data on kaggle as a entire data set)"
   ]
  },
  {
   "cell_type": "code",
   "execution_count": 1,
   "metadata": {},
   "outputs": [],
   "source": [
    "# basics\n",
    "import pandas as pd\n",
    "import numpy as np\n",
    "import matplotlib.pyplot as plt\n",
    "import seaborn as sns\n",
    "\n",
    "# sklearn tools\n",
    "from sklearn.preprocessing import StandardScaler, OneHotEncoder\n",
    "from sklearn.model_selection import train_test_split, GridSearchCV\n",
    "from sklearn.metrics import classification_report, confusion_matrix\n",
    "from sklearn.feature_selection import SelectKBest, SelectPercentile, mutual_info_classif\n",
    "from imblearn.over_sampling import SMOTE, RandomOverSampler, ADASYN, BorderlineSMOTE, KMeansSMOTE, SMOTENC\n",
    "from sklearn.feature_selection import SelectKBest, SelectPercentile, mutual_info_classif,chi2\n",
    "from sklearn.multiclass import OneVsRestClassifier, OneVsOneClassifier\n",
    "\n",
    "df = pd.read_csv(\"purchase600-100cls-15k.lrn.csv\").drop('ID', axis=1)#.sample(frac=1).reset_index()\n",
    "#df_test = pd.read_csv(\"purchase600-100cls-15k.tes.csv\").drop('ID', axis=1)#.sample(frac=1).reset_index()"
   ]
  },
  {
   "cell_type": "markdown",
   "metadata": {},
   "source": [
    "## Dividing training set and test set"
   ]
  },
  {
   "cell_type": "code",
   "execution_count": 2,
   "metadata": {},
   "outputs": [],
   "source": [
    "X = df.drop('class', axis=1) # non target\n",
    "y = df['class'] # target\n",
    "\n",
    "X_train, X_test, y_train, y_test = train_test_split (X, y, test_size=0.20)"
   ]
  },
  {
   "cell_type": "markdown",
   "metadata": {},
   "source": [
    "## Performing a Grid Search (with cross-validation) for parameter tuning of Logistic Regression"
   ]
  },
  {
   "cell_type": "code",
   "execution_count": null,
   "metadata": {},
   "outputs": [],
   "source": [
    "from sklearn.linear_model import LogisticRegression\n",
    "\n",
    "a = [0.1, 0.2, 0.4, 0.6, 0.8, 1.0]\n",
    "b = ['balanced', 'imbalanced']\n",
    "param_grid = dict(C=a, class_weight=b)\n",
    "\n",
    "#clf = OneVsOneClassifier(LogisticRegression(verbose = True)).fit(X_train, y_train) \n",
    "\n",
    "clf = LogisticRegression(multi_class='multinomial')\n",
    "\n",
    "grid = GridSearchCV(estimator=clf, param_grid=param_grid, cv=10)\n",
    "grid.fit(X_train, y_train)\n",
    "grid_results = pd.concat([pd.DataFrame(grid.cv_results_[\"params\"]),pd.DataFrame(grid.cv_results_[\"mean_test_score\"], columns=[\"Accuracy\"])],axis=1)\n",
    "grid_contour = grid_results.groupby(['C','class_weight']).mean()\n",
    "grid_reset = grid_contour.reset_index()\n",
    "grid_reset.columns = ['Coefficient of regularization', 'Class weight', 'Accuracy']\n",
    "grid_pivot = grid_reset.pivot('Coefficient of regularization', 'Class weight')\n",
    "x = grid_pivot.columns.levels[1].values\n",
    "y = grid_pivot.index.values\n",
    "z = grid_pivot.values"
   ]
  },
  {
   "cell_type": "code",
   "execution_count": 5,
   "metadata": {},
   "outputs": [
    {
     "data": {
      "image/png": "[encoded data removed]",
      "text/plain": [
       "<Figure size 640x480 with 1 Axes>"
      ]
     },
     "metadata": {},
     "output_type": "display_data"
    }
   ],
   "source": [
    "fig = plt.gcf()\n",
    "\n",
    "plt.plot(grid_reset['Coefficient of regularization'], grid_reset['Accuracy'], linestyle='dashed', color='Blue',marker='o', markersize=10)\n",
    "plt.xlabel('Coefficient of regularization')\n",
    "plt.ylabel('Accuracy')\n",
    "\n",
    "plt.show()\n",
    "plt.draw()\n",
    "fig.savefig('TUNEpurchaseLR.png', dpi=600)"
   ]
  },
  {
   "cell_type": "markdown",
   "metadata": {},
   "source": [
    "## Logistic Regression and hold-out evaluation with best hyperparameters"
   ]
  },
  {
   "cell_type": "code",
   "execution_count": 17,
   "metadata": {},
   "outputs": [
    {
     "name": "stdout",
     "output_type": "stream",
     "text": [
      "              precision    recall  f1-score   support\n",
      "\n",
      "           0       0.41      0.35      0.38        20\n",
      "           1       0.92      0.75      0.83        16\n",
      "           2       0.80      0.36      0.50        11\n",
      "           3       0.50      0.77      0.61        44\n",
      "           4       0.62      0.91      0.74        11\n",
      "           5       0.44      0.58      0.50        19\n",
      "           6       1.00      0.79      0.88        19\n",
      "           7       0.50      0.54      0.52        24\n",
      "           8       0.74      0.85      0.79        20\n",
      "           9       0.42      0.44      0.43        18\n",
      "          10       0.61      0.55      0.58        20\n",
      "          11       0.41      0.50      0.45        26\n",
      "          12       0.53      0.44      0.48        18\n",
      "          13       0.74      0.61      0.67        28\n",
      "          14       0.52      0.47      0.49        30\n",
      "          15       0.58      0.58      0.58        26\n",
      "          16       0.55      0.62      0.58        39\n",
      "          17       0.24      0.28      0.26        25\n",
      "          18       0.30      0.33      0.32        21\n",
      "          19       0.47      0.57      0.51        53\n",
      "          20       0.64      0.82      0.72        17\n",
      "          21       0.59      0.62      0.60        26\n",
      "          22       0.65      0.35      0.46        31\n",
      "          23       0.44      0.45      0.45        44\n",
      "          24       0.50      0.20      0.29        15\n",
      "          25       0.52      0.50      0.51        28\n",
      "          26       1.00      0.18      0.31        11\n",
      "          27       0.43      0.40      0.41        48\n",
      "          28       0.45      0.60      0.51        15\n",
      "          29       0.47      0.33      0.39        21\n",
      "          30       0.00      0.00      0.00         2\n",
      "          31       0.41      0.69      0.51        26\n",
      "          32       0.89      0.94      0.92        18\n",
      "          33       0.39      0.27      0.32        26\n",
      "          34       0.15      0.11      0.12        19\n",
      "          35       0.60      0.43      0.50        21\n",
      "          36       0.41      0.41      0.41        17\n",
      "          37       0.50      0.52      0.51        21\n",
      "          38       0.31      0.31      0.31        16\n",
      "          39       0.36      0.30      0.33        27\n",
      "          40       0.58      0.63      0.60        41\n",
      "          41       0.40      0.32      0.35        19\n",
      "          42       0.44      0.61      0.51        23\n",
      "          43       1.00      0.14      0.25        14\n",
      "          44       0.48      0.60      0.53        20\n",
      "          45       0.56      0.62      0.59        24\n",
      "          46       0.50      0.36      0.42        11\n",
      "          47       0.50      0.29      0.36         7\n",
      "          48       0.42      0.53      0.47        19\n",
      "          49       0.22      0.18      0.20        11\n",
      "          50       0.50      0.43      0.46        28\n",
      "          51       0.72      0.46      0.57        28\n",
      "          52       0.59      0.76      0.67        21\n",
      "          53       0.60      0.32      0.41        19\n",
      "          54       0.53      0.45      0.49        22\n",
      "          55       0.52      0.50      0.51        28\n",
      "          56       0.50      0.56      0.53        27\n",
      "          57       0.32      0.44      0.37        16\n",
      "          58       0.31      0.30      0.31        33\n",
      "          59       0.33      0.50      0.40        10\n",
      "          60       0.29      0.32      0.30        19\n",
      "          61       0.35      0.57      0.43        28\n",
      "          62       0.70      0.56      0.62        25\n",
      "          63       0.23      0.18      0.20        17\n",
      "          64       0.36      0.38      0.37        13\n",
      "          65       0.50      0.31      0.38        13\n",
      "          66       0.67      0.57      0.62         7\n",
      "          67       0.45      0.58      0.51        26\n",
      "          68       0.24      0.57      0.33         7\n",
      "          69       0.54      0.52      0.53        25\n",
      "          70       0.26      0.39      0.31        18\n",
      "          71       0.36      0.44      0.40        18\n",
      "          72       0.40      0.15      0.22        13\n",
      "          73       0.40      0.27      0.32        15\n",
      "          74       0.46      0.50      0.48        12\n",
      "          75       0.58      0.41      0.48        17\n",
      "          76       0.00      0.00      0.00         9\n",
      "          77       0.67      0.43      0.52        28\n",
      "          78       0.33      0.50      0.40        12\n",
      "          79       0.60      0.33      0.43         9\n",
      "          80       0.54      0.44      0.48        16\n",
      "          81       0.47      0.39      0.42        18\n",
      "          82       0.56      0.38      0.45        13\n",
      "          83       0.50      0.56      0.53        18\n",
      "          84       0.25      0.25      0.25        12\n",
      "          85       0.62      0.48      0.54        21\n",
      "          86       0.45      0.68      0.55        22\n",
      "          87       0.28      0.45      0.34        11\n",
      "          88       0.52      0.54      0.53        24\n",
      "          89       0.29      0.33      0.31        12\n",
      "          90       0.47      0.54      0.50        13\n",
      "          91       0.39      0.55      0.45        22\n",
      "          92       0.56      0.50      0.53        10\n",
      "          93       0.38      0.33      0.36        15\n",
      "          94       1.00      0.18      0.31        11\n",
      "          95       0.50      0.44      0.47         9\n",
      "          96       0.33      0.12      0.18         8\n",
      "          97       0.67      0.22      0.33         9\n",
      "          98       0.50      0.57      0.53        28\n",
      "          99       0.53      0.42      0.47        19\n",
      "\n",
      "    accuracy                           0.48      2000\n",
      "   macro avg       0.49      0.45      0.45      2000\n",
      "weighted avg       0.50      0.48      0.47      2000\n",
      "\n",
      "score:  0.4785\n"
     ]
    },
    {
     "name": "stderr",
     "output_type": "stream",
     "text": [
      "/home/cristiano/anaconda3/envs/ml/lib/python3.8/site-packages/sklearn/linear_model/_logistic.py:444: ConvergenceWarning: lbfgs failed to converge (status=1):\n",
      "STOP: TOTAL NO. of ITERATIONS REACHED LIMIT.\n",
      "\n",
      "Increase the number of iterations (max_iter) or scale the data as shown in:\n",
      "    https://scikit-learn.org/stable/modules/preprocessing.html\n",
      "Please also refer to the documentation for alternative solver options:\n",
      "    https://scikit-learn.org/stable/modules/linear_model.html#logistic-regression\n",
      "  n_iter_i = _check_optimize_result(\n"
     ]
    }
   ],
   "source": [
    "#LR = LogisticRegression()\n",
    "LR = OneVsOneClassifier(LogisticRegression(verbose = True))\n",
    "\n",
    "LR.fit(X_train, y_train)\n",
    "y_pred = LR.predict(X_test)\n",
    "\n",
    "#Evaluation\n",
    "print(classification_report(y_test, y_pred, zero_division = 0))\n",
    "print(\"score: \", LR.score(X_test, y_test))"
   ]
  },
  {
   "cell_type": "markdown",
   "metadata": {},
   "source": [
    "## Performing a Grid Search (with cross-validation) for parameter tuning of k-NN"
   ]
  },
  {
   "cell_type": "code",
   "execution_count": null,
   "metadata": {},
   "outputs": [],
   "source": [
    "from sklearn.neighbors import KNeighborsClassifier\n",
    "\n",
    "a = ['manhattan', 'euclidean', 'cosine']\n",
    "b = [3,5,7,9,11,13,15,17]\n",
    "param_grid = dict(metric=a, n_neighbors=b)\n",
    "\n",
    "clf = KNeighborsClassifier()\n",
    "\n",
    "grid = GridSearchCV(estimator=clf, param_grid=param_grid, cv=10)\n",
    "grid.fit(X_train, y_train)\n",
    "grid_results = pd.concat([pd.DataFrame(grid.cv_results_[\"params\"]),pd.DataFrame(grid.cv_results_[\"mean_test_score\"], columns=[\"Accuracy\"])],axis=1)\n",
    "grid_contour = grid_results.groupby(['metric','n_neighbors']).mean()\n",
    "grid_reset = grid_contour.reset_index()\n",
    "grid_reset.columns = ['metric','n_neighbors', 'Accuracy']\n",
    "grid_pivot = grid_reset.pivot('metric','n_neighbors')\n",
    "x = grid_pivot.columns.levels[1].values\n",
    "y = grid_pivot.index.values\n",
    "z = grid_pivot.values"
   ]
  },
  {
   "cell_type": "code",
   "execution_count": 21,
   "metadata": {},
   "outputs": [
    {
     "data": {
      "image/png": "[encoded data removed]",
      "text/plain": [
       "<Figure size 640x480 with 2 Axes>"
      ]
     },
     "metadata": {},
     "output_type": "display_data"
    }
   ],
   "source": [
    "fig = plt.gcf()\n",
    "\n",
    "sns.heatmap(grid_pivot['Accuracy'].transpose(),annot=True,cmap='Greens', fmt='g')\n",
    "\n",
    "plt.show()\n",
    "plt.draw()\n",
    "\n",
    "fig.savefig('TUNEpurchasekNN.png', dpi=100)"
   ]
  },
  {
   "cell_type": "markdown",
   "metadata": {},
   "source": [
    "## k-NN and hold-out evaluation with best hyperparameters"
   ]
  },
  {
   "cell_type": "code",
   "execution_count": 31,
   "metadata": {},
   "outputs": [
    {
     "name": "stdout",
     "output_type": "stream",
     "text": [
      "              precision    recall  f1-score   support\n",
      "\n",
      "           0       0.25      0.05      0.08        20\n",
      "           1       0.68      0.81      0.74        16\n",
      "           2       0.71      0.91      0.80        11\n",
      "           3       0.50      0.86      0.63        44\n",
      "           4       0.41      0.64      0.50        11\n",
      "           5       0.65      0.68      0.67        19\n",
      "           6       0.25      1.00      0.40        19\n",
      "           7       0.54      0.62      0.58        24\n",
      "           8       0.19      0.45      0.26        20\n",
      "           9       0.40      0.11      0.17        18\n",
      "          10       1.00      0.25      0.40        20\n",
      "          11       0.44      0.73      0.55        26\n",
      "          12       0.20      0.17      0.18        18\n",
      "          13       0.80      0.29      0.42        28\n",
      "          14       0.50      0.30      0.37        30\n",
      "          15       0.82      0.69      0.75        26\n",
      "          16       0.36      0.82      0.50        39\n",
      "          17       0.67      0.08      0.14        25\n",
      "          18       0.50      0.19      0.28        21\n",
      "          19       0.53      0.55      0.54        53\n",
      "          20       0.19      1.00      0.32        17\n",
      "          21       0.73      0.42      0.54        26\n",
      "          22       0.67      0.06      0.12        31\n",
      "          23       0.50      0.30      0.37        44\n",
      "          24       0.67      0.13      0.22        15\n",
      "          25       0.00      0.00      0.00        28\n",
      "          26       0.00      0.00      0.00        11\n",
      "          27       0.62      0.21      0.31        48\n",
      "          28       1.00      0.20      0.33        15\n",
      "          29       1.00      0.10      0.17        21\n",
      "          30       0.00      0.00      0.00         2\n",
      "          31       0.57      0.46      0.51        26\n",
      "          32       0.90      0.50      0.64        18\n",
      "          33       0.86      0.23      0.36        26\n",
      "          34       0.38      0.16      0.22        19\n",
      "          35       0.25      0.19      0.22        21\n",
      "          36       0.44      0.41      0.42        17\n",
      "          37       0.62      0.24      0.34        21\n",
      "          38       0.50      0.25      0.33        16\n",
      "          39       0.33      0.11      0.17        27\n",
      "          40       0.19      0.39      0.26        41\n",
      "          41       0.62      0.26      0.37        19\n",
      "          42       0.24      0.17      0.20        23\n",
      "          43       0.00      0.00      0.00        14\n",
      "          44       0.10      0.05      0.07        20\n",
      "          45       0.27      0.54      0.36        24\n",
      "          46       0.00      0.00      0.00        11\n",
      "          47       0.00      0.00      0.00         7\n",
      "          48       0.53      0.47      0.50        19\n",
      "          49       0.00      0.00      0.00        11\n",
      "          50       0.67      0.07      0.13        28\n",
      "          51       0.21      0.11      0.14        28\n",
      "          52       0.14      0.19      0.16        21\n",
      "          53       0.60      0.32      0.41        19\n",
      "          54       0.19      0.95      0.32        22\n",
      "          55       0.88      0.25      0.39        28\n",
      "          56       0.32      0.56      0.41        27\n",
      "          57       0.32      0.50      0.39        16\n",
      "          58       0.00      0.00      0.00        33\n",
      "          59       0.22      0.20      0.21        10\n",
      "          60       0.25      0.05      0.09        19\n",
      "          61       0.40      0.14      0.21        28\n",
      "          62       0.18      1.00      0.31        25\n",
      "          63       0.29      0.12      0.17        17\n",
      "          64       0.21      0.38      0.27        13\n",
      "          65       0.00      0.00      0.00        13\n",
      "          66       1.00      0.14      0.25         7\n",
      "          67       0.22      0.15      0.18        26\n",
      "          68       0.00      0.00      0.00         7\n",
      "          69       0.75      0.12      0.21        25\n",
      "          70       0.50      0.33      0.40        18\n",
      "          71       0.19      0.50      0.27        18\n",
      "          72       0.00      0.00      0.00        13\n",
      "          73       0.00      0.00      0.00        15\n",
      "          74       0.40      0.33      0.36        12\n",
      "          75       0.17      0.12      0.14        17\n",
      "          76       0.00      0.00      0.00         9\n",
      "          77       0.31      0.14      0.20        28\n",
      "          78       0.33      0.25      0.29        12\n",
      "          79       0.12      0.11      0.12         9\n",
      "          80       0.00      0.00      0.00        16\n",
      "          81       0.13      0.22      0.16        18\n",
      "          82       0.16      0.62      0.26        13\n",
      "          83       0.26      0.72      0.38        18\n",
      "          84       0.67      0.17      0.27        12\n",
      "          85       0.56      0.24      0.33        21\n",
      "          86       0.25      0.05      0.08        22\n",
      "          87       0.25      0.09      0.13        11\n",
      "          88       0.62      0.21      0.31        24\n",
      "          89       0.25      0.08      0.12        12\n",
      "          90       0.20      0.15      0.17        13\n",
      "          91       0.15      0.82      0.25        22\n",
      "          92       0.00      0.00      0.00        10\n",
      "          93       0.10      0.40      0.16        15\n",
      "          94       0.00      0.00      0.00        11\n",
      "          95       0.00      0.00      0.00         9\n",
      "          96       0.00      0.00      0.00         8\n",
      "          97       0.00      0.00      0.00         9\n",
      "          98       0.43      0.64      0.51        28\n",
      "          99       0.20      0.11      0.14        19\n",
      "\n",
      "    accuracy                           0.32      2000\n",
      "   macro avg       0.36      0.29      0.26      2000\n",
      "weighted avg       0.40      0.32      0.29      2000\n",
      "\n",
      "score:  0.3225\n"
     ]
    }
   ],
   "source": [
    "#kNN = KNeighborsClassifier(n_neighbors=40)\n",
    "kNN = OneVsOneClassifier(KNeighborsClassifier(n_neighbors=20)).fit(X_train, y_train)\n",
    "#kNN.fit(X_train, y_train)\n",
    "y_pred = kNN.predict(X_test)\n",
    "#Evaluation\n",
    "print(classification_report(y_test, y_pred, zero_division = 0))\n",
    "print(\"score: \", kNN.score(X_test, y_test))\n",
    "M = confusion_matrix(y_test, y_pred)"
   ]
  }
 ],
 "metadata": {
  "kernelspec": {
   "display_name": "Python 3",
   "language": "python",
   "name": "python3"
  },
  "language_info": {
   "codemirror_mode": {
    "name": "ipython",
    "version": 3
   },
   "file_extension": ".py",
   "mimetype": "text/x-python",
   "name": "python",
   "nbconvert_exporter": "python",
   "pygments_lexer": "ipython3",
   "version": "3.8.11"
  },
  "vscode": {
   "interpreter": {
    "hash": "ae50877025e11e0e4f14b4abd9b42b17237013a54a9c8e0b781fea1cef6e6ca7"
   }
  }
 },
 "nbformat": 4,
 "nbformat_minor": 2
}
