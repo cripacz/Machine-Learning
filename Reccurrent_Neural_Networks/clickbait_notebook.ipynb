{
 "cells": [
  {
   "attachments": {},
   "cell_type": "markdown",
   "id": "starting-personal",
   "metadata": {
    "id": "starting-personal"
   },
   "source": [
    "# Text Classification \n",
    "## Basic ML algorithms VS Recurrent Neural Networks"
   ]
  },
  {
   "attachments": {},
   "cell_type": "markdown",
   "id": "3f9d82ba",
   "metadata": {},
   "source": [
    "### User's choice. Set parameters or use pre-chosen ones:"
   ]
  },
  {
   "cell_type": "code",
   "execution_count": 36,
   "id": "49ecd984",
   "metadata": {},
   "outputs": [],
   "source": [
    "choice = input('Chose hyperparameters: yes / no')\n",
    "\n",
    "if choice == 'yes':\n",
    "    import params\n",
    "    VOCAB_SIZE = params.VOCAB_SIZE\n",
    "    MAXLEN = params.MAXLEN\n",
    "    EMBEDDING_DIM = params.EMBEDDING_DIM\n",
    "    dropout = params.dropout\n",
    "    LearningRate = params.LearningRate"
   ]
  },
  {
   "attachments": {},
   "cell_type": "markdown",
   "id": "15f739de",
   "metadata": {},
   "source": [
    "Installing requirements"
   ]
  },
  {
   "cell_type": "code",
   "execution_count": 37,
   "id": "691c2197",
   "metadata": {},
   "outputs": [
    {
     "name": "stdout",
     "output_type": "stream",
     "text": [
      "Requirement already satisfied: matplotlib==3.5.2 in /home/cristiano/anaconda3/envs/ml/lib/python3.8/site-packages (from -r requirements.txt (line 1)) (3.5.2)\n",
      "Requirement already satisfied: nltk==3.7 in /home/cristiano/anaconda3/envs/ml/lib/python3.8/site-packages (from -r requirements.txt (line 2)) (3.7)\n",
      "Requirement already satisfied: numpy==1.21.5 in /home/cristiano/anaconda3/envs/ml/lib/python3.8/site-packages (from -r requirements.txt (line 3)) (1.21.5)\n",
      "Requirement already satisfied: pandas==1.4.2 in /home/cristiano/anaconda3/envs/ml/lib/python3.8/site-packages (from -r requirements.txt (line 4)) (1.4.2)\n",
      "Requirement already satisfied: scikit_learn==1.1.1 in /home/cristiano/anaconda3/envs/ml/lib/python3.8/site-packages (from -r requirements.txt (line 5)) (1.1.1)\n",
      "Requirement already satisfied: seaborn==0.11.2 in /home/cristiano/anaconda3/envs/ml/lib/python3.8/site-packages (from -r requirements.txt (line 6)) (0.11.2)\n",
      "Requirement already satisfied: tensorflow==2.8.0 in /home/cristiano/anaconda3/envs/ml/lib/python3.8/site-packages (from -r requirements.txt (line 7)) (2.8.0)\n",
      "Requirement already satisfied: tensorflow_hub==0.12.0 in /home/cristiano/anaconda3/envs/ml/lib/python3.8/site-packages (from -r requirements.txt (line 8)) (0.12.0)\n",
      "Requirement already satisfied: tqdm==4.64.0 in /home/cristiano/anaconda3/envs/ml/lib/python3.8/site-packages (from -r requirements.txt (line 9)) (4.64.0)\n",
      "Requirement already satisfied: transformers==4.19.2 in /home/cristiano/anaconda3/envs/ml/lib/python3.8/site-packages (from -r requirements.txt (line 10)) (4.19.2)\n",
      "Requirement already satisfied: wordcloud==1.8.2.2 in /home/cristiano/anaconda3/envs/ml/lib/python3.8/site-packages (from -r requirements.txt (line 11)) (1.8.2.2)\n",
      "Requirement already satisfied: protobuf==3.20.* in /home/cristiano/anaconda3/envs/ml/lib/python3.8/site-packages (from -r requirements.txt (line 12)) (3.20.3)\n",
      "Requirement already satisfied: pillow>=6.2.0 in /home/cristiano/anaconda3/envs/ml/lib/python3.8/site-packages (from matplotlib==3.5.2->-r requirements.txt (line 1)) (8.3.1)\n",
      "Requirement already satisfied: packaging>=20.0 in /home/cristiano/anaconda3/envs/ml/lib/python3.8/site-packages (from matplotlib==3.5.2->-r requirements.txt (line 1)) (21.0)\n",
      "Requirement already satisfied: kiwisolver>=1.0.1 in /home/cristiano/anaconda3/envs/ml/lib/python3.8/site-packages (from matplotlib==3.5.2->-r requirements.txt (line 1)) (1.3.1)\n",
      "Requirement already satisfied: pyparsing>=2.2.1 in /home/cristiano/anaconda3/envs/ml/lib/python3.8/site-packages (from matplotlib==3.5.2->-r requirements.txt (line 1)) (2.4.7)\n",
      "Requirement already satisfied: fonttools>=4.22.0 in /home/cristiano/anaconda3/envs/ml/lib/python3.8/site-packages (from matplotlib==3.5.2->-r requirements.txt (line 1)) (4.25.0)\n",
      "Requirement already satisfied: python-dateutil>=2.7 in /home/cristiano/anaconda3/envs/ml/lib/python3.8/site-packages (from matplotlib==3.5.2->-r requirements.txt (line 1)) (2.8.2)\n",
      "Requirement already satisfied: cycler>=0.10 in /home/cristiano/anaconda3/envs/ml/lib/python3.8/site-packages (from matplotlib==3.5.2->-r requirements.txt (line 1)) (0.10.0)\n",
      "Requirement already satisfied: click in /home/cristiano/.local/lib/python3.8/site-packages (from nltk==3.7->-r requirements.txt (line 2)) (8.1.3)\n",
      "Requirement already satisfied: joblib in /home/cristiano/anaconda3/envs/ml/lib/python3.8/site-packages (from nltk==3.7->-r requirements.txt (line 2)) (1.0.1)\n",
      "Requirement already satisfied: regex>=2021.8.3 in /home/cristiano/anaconda3/envs/ml/lib/python3.8/site-packages (from nltk==3.7->-r requirements.txt (line 2)) (2021.8.3)\n",
      "Requirement already satisfied: pytz>=2020.1 in /home/cristiano/anaconda3/envs/ml/lib/python3.8/site-packages (from pandas==1.4.2->-r requirements.txt (line 4)) (2021.1)\n",
      "Requirement already satisfied: scipy>=1.3.2 in /home/cristiano/anaconda3/envs/ml/lib/python3.8/site-packages (from scikit_learn==1.1.1->-r requirements.txt (line 5)) (1.7.1)\n",
      "Requirement already satisfied: threadpoolctl>=2.0.0 in /home/cristiano/anaconda3/envs/ml/lib/python3.8/site-packages (from scikit_learn==1.1.1->-r requirements.txt (line 5)) (2.2.0)\n",
      "Requirement already satisfied: gast>=0.2.1 in /home/cristiano/anaconda3/envs/ml/lib/python3.8/site-packages (from tensorflow==2.8.0->-r requirements.txt (line 7)) (0.4.0)\n",
      "Requirement already satisfied: keras<2.9,>=2.8.0rc0 in /home/cristiano/anaconda3/envs/ml/lib/python3.8/site-packages (from tensorflow==2.8.0->-r requirements.txt (line 7)) (2.8.0)\n",
      "Requirement already satisfied: libclang>=9.0.1 in /home/cristiano/anaconda3/envs/ml/lib/python3.8/site-packages (from tensorflow==2.8.0->-r requirements.txt (line 7)) (15.0.6.1)\n",
      "Requirement already satisfied: google-pasta>=0.1.1 in /home/cristiano/anaconda3/envs/ml/lib/python3.8/site-packages (from tensorflow==2.8.0->-r requirements.txt (line 7)) (0.2.0)\n",
      "Requirement already satisfied: grpcio<2.0,>=1.24.3 in /home/cristiano/anaconda3/envs/ml/lib/python3.8/site-packages (from tensorflow==2.8.0->-r requirements.txt (line 7)) (1.51.1)\n",
      "Requirement already satisfied: tensorflow-io-gcs-filesystem>=0.23.1 in /home/cristiano/anaconda3/envs/ml/lib/python3.8/site-packages (from tensorflow==2.8.0->-r requirements.txt (line 7)) (0.30.0)\n",
      "Requirement already satisfied: h5py>=2.9.0 in /home/cristiano/anaconda3/envs/ml/lib/python3.8/site-packages (from tensorflow==2.8.0->-r requirements.txt (line 7)) (2.10.0)\n",
      "Requirement already satisfied: wrapt>=1.11.0 in /home/cristiano/anaconda3/envs/ml/lib/python3.8/site-packages (from tensorflow==2.8.0->-r requirements.txt (line 7)) (1.12.1)\n",
      "Requirement already satisfied: keras-preprocessing>=1.1.1 in /home/cristiano/anaconda3/envs/ml/lib/python3.8/site-packages (from tensorflow==2.8.0->-r requirements.txt (line 7)) (1.1.2)\n",
      "Requirement already satisfied: setuptools in /home/cristiano/anaconda3/envs/ml/lib/python3.8/site-packages (from tensorflow==2.8.0->-r requirements.txt (line 7)) (58.0.4)\n",
      "Requirement already satisfied: flatbuffers>=1.12 in /home/cristiano/anaconda3/envs/ml/lib/python3.8/site-packages (from tensorflow==2.8.0->-r requirements.txt (line 7)) (23.1.21)\n",
      "Requirement already satisfied: absl-py>=0.4.0 in /home/cristiano/anaconda3/envs/ml/lib/python3.8/site-packages (from tensorflow==2.8.0->-r requirements.txt (line 7)) (1.4.0)\n",
      "Requirement already satisfied: tf-estimator-nightly==2.8.0.dev2021122109 in /home/cristiano/anaconda3/envs/ml/lib/python3.8/site-packages (from tensorflow==2.8.0->-r requirements.txt (line 7)) (2.8.0.dev2021122109)\n",
      "Requirement already satisfied: tensorboard<2.9,>=2.8 in /home/cristiano/anaconda3/envs/ml/lib/python3.8/site-packages (from tensorflow==2.8.0->-r requirements.txt (line 7)) (2.8.0)\n",
      "Requirement already satisfied: typing-extensions>=3.6.6 in /home/cristiano/.local/lib/python3.8/site-packages (from tensorflow==2.8.0->-r requirements.txt (line 7)) (4.2.0)\n",
      "Requirement already satisfied: opt-einsum>=2.3.2 in /home/cristiano/anaconda3/envs/ml/lib/python3.8/site-packages (from tensorflow==2.8.0->-r requirements.txt (line 7)) (3.3.0)\n",
      "Requirement already satisfied: termcolor>=1.1.0 in /home/cristiano/anaconda3/envs/ml/lib/python3.8/site-packages (from tensorflow==2.8.0->-r requirements.txt (line 7)) (2.2.0)\n",
      "Requirement already satisfied: astunparse>=1.6.0 in /home/cristiano/anaconda3/envs/ml/lib/python3.8/site-packages (from tensorflow==2.8.0->-r requirements.txt (line 7)) (1.6.3)\n",
      "Requirement already satisfied: six>=1.12.0 in /home/cristiano/anaconda3/envs/ml/lib/python3.8/site-packages (from tensorflow==2.8.0->-r requirements.txt (line 7)) (1.16.0)\n",
      "Requirement already satisfied: huggingface-hub<1.0,>=0.1.0 in /home/cristiano/anaconda3/envs/ml/lib/python3.8/site-packages (from transformers==4.19.2->-r requirements.txt (line 10)) (0.12.1)\n",
      "Requirement already satisfied: filelock in /home/cristiano/anaconda3/envs/ml/lib/python3.8/site-packages (from transformers==4.19.2->-r requirements.txt (line 10)) (3.0.12)\n",
      "Requirement already satisfied: pyyaml>=5.1 in /home/cristiano/anaconda3/envs/ml/lib/python3.8/site-packages (from transformers==4.19.2->-r requirements.txt (line 10)) (5.4.1)\n",
      "Requirement already satisfied: requests in /home/cristiano/anaconda3/envs/ml/lib/python3.8/site-packages (from transformers==4.19.2->-r requirements.txt (line 10)) (2.26.0)\n",
      "Requirement already satisfied: tokenizers!=0.11.3,<0.13,>=0.11.1 in /home/cristiano/anaconda3/envs/ml/lib/python3.8/site-packages (from transformers==4.19.2->-r requirements.txt (line 10)) (0.12.1)\n",
      "Requirement already satisfied: wheel<1.0,>=0.23.0 in /home/cristiano/anaconda3/envs/ml/lib/python3.8/site-packages (from astunparse>=1.6.0->tensorflow==2.8.0->-r requirements.txt (line 7)) (0.37.0)\n",
      "Requirement already satisfied: google-auth-oauthlib<0.5,>=0.4.1 in /home/cristiano/anaconda3/envs/ml/lib/python3.8/site-packages (from tensorboard<2.9,>=2.8->tensorflow==2.8.0->-r requirements.txt (line 7)) (0.4.6)\n",
      "Requirement already satisfied: tensorboard-data-server<0.7.0,>=0.6.0 in /home/cristiano/anaconda3/envs/ml/lib/python3.8/site-packages (from tensorboard<2.9,>=2.8->tensorflow==2.8.0->-r requirements.txt (line 7)) (0.6.1)\n",
      "Requirement already satisfied: werkzeug>=0.11.15 in /home/cristiano/anaconda3/envs/ml/lib/python3.8/site-packages (from tensorboard<2.9,>=2.8->tensorflow==2.8.0->-r requirements.txt (line 7)) (2.0.1)\n",
      "Requirement already satisfied: google-auth<3,>=1.6.3 in /home/cristiano/anaconda3/envs/ml/lib/python3.8/site-packages (from tensorboard<2.9,>=2.8->tensorflow==2.8.0->-r requirements.txt (line 7)) (2.16.0)\n",
      "Requirement already satisfied: markdown>=2.6.8 in /home/cristiano/anaconda3/envs/ml/lib/python3.8/site-packages (from tensorboard<2.9,>=2.8->tensorflow==2.8.0->-r requirements.txt (line 7)) (3.4.1)\n",
      "Requirement already satisfied: tensorboard-plugin-wit>=1.6.0 in /home/cristiano/anaconda3/envs/ml/lib/python3.8/site-packages (from tensorboard<2.9,>=2.8->tensorflow==2.8.0->-r requirements.txt (line 7)) (1.8.1)\n",
      "Requirement already satisfied: pyasn1-modules>=0.2.1 in /home/cristiano/anaconda3/envs/ml/lib/python3.8/site-packages (from google-auth<3,>=1.6.3->tensorboard<2.9,>=2.8->tensorflow==2.8.0->-r requirements.txt (line 7)) (0.2.8)\n",
      "Requirement already satisfied: cachetools<6.0,>=2.0.0 in /home/cristiano/anaconda3/envs/ml/lib/python3.8/site-packages (from google-auth<3,>=1.6.3->tensorboard<2.9,>=2.8->tensorflow==2.8.0->-r requirements.txt (line 7)) (5.3.0)\n",
      "Requirement already satisfied: rsa<5,>=3.1.4 in /home/cristiano/anaconda3/envs/ml/lib/python3.8/site-packages (from google-auth<3,>=1.6.3->tensorboard<2.9,>=2.8->tensorflow==2.8.0->-r requirements.txt (line 7)) (4.9)\n",
      "Requirement already satisfied: requests-oauthlib>=0.7.0 in /home/cristiano/anaconda3/envs/ml/lib/python3.8/site-packages (from google-auth-oauthlib<0.5,>=0.4.1->tensorboard<2.9,>=2.8->tensorflow==2.8.0->-r requirements.txt (line 7)) (1.3.1)\n",
      "Requirement already satisfied: importlib-metadata>=4.4 in /home/cristiano/anaconda3/envs/ml/lib/python3.8/site-packages (from markdown>=2.6.8->tensorboard<2.9,>=2.8->tensorflow==2.8.0->-r requirements.txt (line 7)) (4.8.1)\n",
      "Requirement already satisfied: zipp>=0.5 in /home/cristiano/anaconda3/envs/ml/lib/python3.8/site-packages (from importlib-metadata>=4.4->markdown>=2.6.8->tensorboard<2.9,>=2.8->tensorflow==2.8.0->-r requirements.txt (line 7)) (3.5.0)\n",
      "Requirement already satisfied: pyasn1<0.5.0,>=0.4.6 in /home/cristiano/anaconda3/envs/ml/lib/python3.8/site-packages (from pyasn1-modules>=0.2.1->google-auth<3,>=1.6.3->tensorboard<2.9,>=2.8->tensorflow==2.8.0->-r requirements.txt (line 7)) (0.4.8)\n",
      "Requirement already satisfied: charset-normalizer~=2.0.0 in /home/cristiano/anaconda3/envs/ml/lib/python3.8/site-packages (from requests->transformers==4.19.2->-r requirements.txt (line 10)) (2.0.4)\n",
      "Requirement already satisfied: idna<4,>=2.5 in /home/cristiano/anaconda3/envs/ml/lib/python3.8/site-packages (from requests->transformers==4.19.2->-r requirements.txt (line 10)) (3.2)\n",
      "Requirement already satisfied: certifi>=2017.4.17 in /home/cristiano/anaconda3/envs/ml/lib/python3.8/site-packages (from requests->transformers==4.19.2->-r requirements.txt (line 10)) (2022.12.7)\n",
      "Requirement already satisfied: urllib3<1.27,>=1.21.1 in /home/cristiano/anaconda3/envs/ml/lib/python3.8/site-packages (from requests->transformers==4.19.2->-r requirements.txt (line 10)) (1.26.6)\n",
      "Requirement already satisfied: oauthlib>=3.0.0 in /home/cristiano/anaconda3/envs/ml/lib/python3.8/site-packages (from requests-oauthlib>=0.7.0->google-auth-oauthlib<0.5,>=0.4.1->tensorboard<2.9,>=2.8->tensorflow==2.8.0->-r requirements.txt (line 7)) (3.2.2)\n"
     ]
    }
   ],
   "source": [
    "!pip install -r requirements.txt"
   ]
  },
  {
   "cell_type": "code",
   "execution_count": 38,
   "id": "entertaining-incidence",
   "metadata": {
    "id": "entertaining-incidence"
   },
   "outputs": [],
   "source": [
    "%matplotlib inline"
   ]
  },
  {
   "attachments": {},
   "cell_type": "markdown",
   "id": "d405c45e",
   "metadata": {},
   "source": [
    "Importing libraries"
   ]
  },
  {
   "cell_type": "code",
   "execution_count": 39,
   "id": "bound-barbados",
   "metadata": {
    "id": "bound-barbados"
   },
   "outputs": [],
   "source": [
    "import numpy as np # linear algebra\n",
    "import pandas as pd # data processing, CSV file I/O (e.g. pd.read_csv)\n",
    "import matplotlib.pyplot as plt\n",
    "import seaborn as sns\n",
    "import os\n",
    "from collections import defaultdict\n",
    "import nltk\n",
    "from wordcloud import WordCloud, STOPWORDS , ImageColorGenerator\n",
    "import re\n",
    "import time\n",
    "import nltk as nlp\n",
    "import math\n",
    "from tqdm import tqdm\n",
    "from nltk.corpus import stopwords\n",
    "from nltk import word_tokenize\n",
    "from nltk.stem.porter import PorterStemmer\n",
    "import tensorflow as tf \n",
    "from evaluation import GetScoresNN, GetModelScores, GetScores\n",
    "from plot_functions import plot_accuracy_curve, plot_loss_curve, plot_length_sentences, plot_distribution, confusion_matrix_NN"
   ]
  },
  {
   "cell_type": "code",
   "execution_count": 40,
   "id": "sublime-limitation",
   "metadata": {
    "id": "sublime-limitation"
   },
   "outputs": [],
   "source": [
    "from sklearn.metrics import accuracy_score, f1_score, precision_score, recall_score, roc_auc_score, plot_confusion_matrix, plot_roc_curve, roc_curve\n",
    "from sklearn.metrics import classification_report, f1_score, confusion_matrix, plot_confusion_matrix\n",
    "from sklearn.feature_extraction.text import TfidfVectorizer, CountVectorizer\n",
    "from sklearn.linear_model import LogisticRegression, ElasticNet\n",
    "from sklearn.ensemble import RandomForestClassifier\n",
    "from sklearn.tree import DecisionTreeClassifier\n",
    "from sklearn.model_selection import GridSearchCV\n",
    "from sklearn.metrics import confusion_matrix, ConfusionMatrixDisplay\n",
    "from sklearn.preprocessing import LabelEncoder\n",
    "from sklearn.neighbors import KNeighborsClassifier"
   ]
  },
  {
   "cell_type": "code",
   "execution_count": 41,
   "id": "hybrid-updating",
   "metadata": {
    "id": "hybrid-updating"
   },
   "outputs": [],
   "source": [
    "from tensorflow.keras.preprocessing.text import Tokenizer\n",
    "from tensorflow.keras.preprocessing.sequence import pad_sequences\n",
    "from tensorflow.keras.models import Sequential, Model\n",
    "from tensorflow.keras.layers import Input, Embedding, Dense, SimpleRNN, LSTM, Bidirectional, GlobalAveragePooling1D, Dropout, Attention, TimeDistributed, GlobalMaxPooling1D\n",
    "from tensorflow.keras.losses import SparseCategoricalCrossentropy\n",
    "from tensorflow.keras.optimizers import Adam, RMSprop\n",
    "from tensorflow.keras.callbacks import TensorBoard, EarlyStopping, ReduceLROnPlateau, ModelCheckpoint\n",
    "from tensorflow.keras.utils import plot_model\n",
    "import tensorflow_hub as hub"
   ]
  },
  {
   "cell_type": "code",
   "execution_count": 42,
   "id": "rQLRBFN2w2BT",
   "metadata": {
    "colab": {
     "base_uri": "https://localhost:8080/"
    },
    "id": "rQLRBFN2w2BT",
    "outputId": "9f443408-9644-4d77-cdf4-374693727832"
   },
   "outputs": [
    {
     "name": "stderr",
     "output_type": "stream",
     "text": [
      "[nltk_data] Downloading package stopwords to\n",
      "[nltk_data]     /home/cristiano/nltk_data...\n",
      "[nltk_data]   Package stopwords is already up-to-date!\n"
     ]
    },
    {
     "data": {
      "text/plain": [
       "True"
      ]
     },
     "execution_count": 42,
     "metadata": {},
     "output_type": "execute_result"
    }
   ],
   "source": [
    "nltk.download('stopwords')"
   ]
  },
  {
   "attachments": {},
   "cell_type": "markdown",
   "id": "damaged-viewer",
   "metadata": {
    "id": "damaged-viewer"
   },
   "source": [
    "# Hyperparameters"
   ]
  },
  {
   "cell_type": "code",
   "execution_count": 44,
   "id": "opposite-laser",
   "metadata": {
    "id": "opposite-laser"
   },
   "outputs": [],
   "source": [
    "TRAIN_PCT = 0.8\n",
    "VAL_PCT = 0.1\n",
    "TEST_PCT = 0.1\n",
    "\n",
    "VOCAB_SIZE = 8000\n",
    "MAXLEN = 20\n",
    "EMBEDDING_DIM = 32"
   ]
  },
  {
   "cell_type": "markdown",
   "id": "amino-closer",
   "metadata": {
    "id": "amino-closer"
   },
   "source": [
    "# Import Data"
   ]
  },
  {
   "attachments": {},
   "cell_type": "markdown",
   "id": "XdQ6L8ziQNa_",
   "metadata": {
    "id": "XdQ6L8ziQNa_"
   },
   "source": [
    "### Data set: Clickbait"
   ]
  },
  {
   "attachments": {},
   "cell_type": "markdown",
   "id": "ac83ee40",
   "metadata": {},
   "source": [
    "This dataset contains headlines from various news sites such as ‘WikiNews’, ’New York Times’, ‘The\n",
    "Guardian’, ‘The Hindu’, ‘BuzzFeed’, ‘Upworthy’, ‘ViralNova’, ‘Thatscoop’, ‘Scoopwhoop’ and ‘Viral-\n",
    "Stories’. It has two columns first one contains headlines and the second one has numerical labels\n",
    "of clickbait in which 1 represents that it is clickbait and 0 represents that it is non-clickbait head-\n",
    "line. The dataset contains total 32000 rows of which half of them are clickbait and the other half are\n",
    "non-clickbait."
   ]
  },
  {
   "attachments": {},
   "cell_type": "markdown",
   "id": "native-bradford",
   "metadata": {
    "id": "native-bradford"
   },
   "source": [
    "Source - \"https://github.com/bhargaviparanjape/clickbait\""
   ]
  },
  {
   "cell_type": "code",
   "execution_count": 45,
   "id": "1B8VCNiCr8PF",
   "metadata": {
    "id": "1B8VCNiCr8PF"
   },
   "outputs": [
    {
     "data": {
      "text/html": [
       "<div>\n",
       "<style scoped>\n",
       "    .dataframe tbody tr th:only-of-type {\n",
       "        vertical-align: middle;\n",
       "    }\n",
       "\n",
       "    .dataframe tbody tr th {\n",
       "        vertical-align: top;\n",
       "    }\n",
       "\n",
       "    .dataframe thead th {\n",
       "        text-align: right;\n",
       "    }\n",
       "</style>\n",
       "<table border=\"1\" class=\"dataframe\">\n",
       "  <thead>\n",
       "    <tr style=\"text-align: right;\">\n",
       "      <th></th>\n",
       "      <th>text</th>\n",
       "      <th>labels</th>\n",
       "    </tr>\n",
       "  </thead>\n",
       "  <tbody>\n",
       "    <tr>\n",
       "      <th>0</th>\n",
       "      <td>Taliban Seize Vital Pakistan Area Closer to th...</td>\n",
       "      <td>0</td>\n",
       "    </tr>\n",
       "    <tr>\n",
       "      <th>1</th>\n",
       "      <td>Reports: Parents of missing girl Madeleine McC...</td>\n",
       "      <td>0</td>\n",
       "    </tr>\n",
       "    <tr>\n",
       "      <th>2</th>\n",
       "      <td>Wider Drug War Threatens Colombian Indians</td>\n",
       "      <td>0</td>\n",
       "    </tr>\n",
       "    <tr>\n",
       "      <th>3</th>\n",
       "      <td>People Reacted To The Online Sensation #AlDub ...</td>\n",
       "      <td>1</td>\n",
       "    </tr>\n",
       "    <tr>\n",
       "      <th>4</th>\n",
       "      <td>26 #BlackOutEid Selfies That Will Completely M...</td>\n",
       "      <td>1</td>\n",
       "    </tr>\n",
       "    <tr>\n",
       "      <th>...</th>\n",
       "      <td>...</td>\n",
       "      <td>...</td>\n",
       "    </tr>\n",
       "    <tr>\n",
       "      <th>31995</th>\n",
       "      <td>Pizza 'lust' campaign attracts numerous compla...</td>\n",
       "      <td>0</td>\n",
       "    </tr>\n",
       "    <tr>\n",
       "      <th>31996</th>\n",
       "      <td>South Korean navy ship sinks off North Korean ...</td>\n",
       "      <td>0</td>\n",
       "    </tr>\n",
       "    <tr>\n",
       "      <th>31997</th>\n",
       "      <td>Apple executive leaves company after iPhone 4 ...</td>\n",
       "      <td>0</td>\n",
       "    </tr>\n",
       "    <tr>\n",
       "      <th>31998</th>\n",
       "      <td>This Is What \"Mean Girls\" Would Be Like If It ...</td>\n",
       "      <td>1</td>\n",
       "    </tr>\n",
       "    <tr>\n",
       "      <th>31999</th>\n",
       "      <td>Russia Rejects the Notion of a Joint Missile S...</td>\n",
       "      <td>0</td>\n",
       "    </tr>\n",
       "  </tbody>\n",
       "</table>\n",
       "<p>32000 rows × 2 columns</p>\n",
       "</div>"
      ],
      "text/plain": [
       "                                                    text  labels\n",
       "0      Taliban Seize Vital Pakistan Area Closer to th...       0\n",
       "1      Reports: Parents of missing girl Madeleine McC...       0\n",
       "2             Wider Drug War Threatens Colombian Indians       0\n",
       "3      People Reacted To The Online Sensation #AlDub ...       1\n",
       "4      26 #BlackOutEid Selfies That Will Completely M...       1\n",
       "...                                                  ...     ...\n",
       "31995  Pizza 'lust' campaign attracts numerous compla...       0\n",
       "31996  South Korean navy ship sinks off North Korean ...       0\n",
       "31997  Apple executive leaves company after iPhone 4 ...       0\n",
       "31998  This Is What \"Mean Girls\" Would Be Like If It ...       1\n",
       "31999  Russia Rejects the Notion of a Joint Missile S...       0\n",
       "\n",
       "[32000 rows x 2 columns]"
      ]
     },
     "execution_count": 45,
     "metadata": {},
     "output_type": "execute_result"
    }
   ],
   "source": [
    "data = pd.read_csv(\"clickbait.csv\")\n",
    "data=data[['text', 'labels']]\n",
    "data['text'] = data['text'].astype(str)\n",
    "data['labels'] = data['labels'].astype(int)\n",
    "data = data.sample(frac=1)\n",
    "data = data.reset_index(drop=True)\n",
    "data"
   ]
  },
  {
   "attachments": {},
   "cell_type": "markdown",
   "id": "compatible-oasis",
   "metadata": {
    "id": "compatible-oasis"
   },
   "source": [
    "# Training - Test - Validation split"
   ]
  },
  {
   "cell_type": "code",
   "execution_count": 46,
   "id": "laden-communist",
   "metadata": {
    "id": "laden-communist"
   },
   "outputs": [],
   "source": [
    "def train_test_val_split(data) :\n",
    "\n",
    "    train_data = pd.DataFrame()\n",
    "    val_data = pd.DataFrame()\n",
    "    test_data = pd.DataFrame()\n",
    "\n",
    "    for (label, group_texts) in data.groupby('labels'):\n",
    "\n",
    "        group_texts = group_texts.sample(len(group_texts))  ## shuffle the data for each group\n",
    "\n",
    "        train_data_end_index = int(len(group_texts) * TRAIN_PCT)\n",
    "        val_data_end_index = train_data_end_index + int(len(group_texts) * VAL_PCT)\n",
    "\n",
    "\n",
    "        train_data_in_group = group_texts[:train_data_end_index]\n",
    "        val_data_in_group = group_texts[train_data_end_index:val_data_end_index]\n",
    "        test_data_in_group = group_texts[val_data_end_index :]\n",
    "\n",
    "        train_data = train_data.append(train_data_in_group)\n",
    "        val_data = val_data.append(val_data_in_group)\n",
    "        test_data = test_data.append(test_data_in_group)\n",
    "        \n",
    "    return train_data, val_data, test_data"
   ]
  },
  {
   "cell_type": "code",
   "execution_count": 47,
   "id": "37ad27aa",
   "metadata": {
    "colab": {
     "base_uri": "https://localhost:8080/"
    },
    "id": "37ad27aa",
    "outputId": "140e6cda-68f3-40f1-b593-6e1f15797554"
   },
   "outputs": [
    {
     "name": "stderr",
     "output_type": "stream",
     "text": [
      "<ipython-input-46-9137dd1aeb6d>:19: FutureWarning: The frame.append method is deprecated and will be removed from pandas in a future version. Use pandas.concat instead.\n",
      "  train_data = train_data.append(train_data_in_group)\n",
      "<ipython-input-46-9137dd1aeb6d>:20: FutureWarning: The frame.append method is deprecated and will be removed from pandas in a future version. Use pandas.concat instead.\n",
      "  val_data = val_data.append(val_data_in_group)\n",
      "<ipython-input-46-9137dd1aeb6d>:21: FutureWarning: The frame.append method is deprecated and will be removed from pandas in a future version. Use pandas.concat instead.\n",
      "  test_data = test_data.append(test_data_in_group)\n",
      "<ipython-input-46-9137dd1aeb6d>:19: FutureWarning: The frame.append method is deprecated and will be removed from pandas in a future version. Use pandas.concat instead.\n",
      "  train_data = train_data.append(train_data_in_group)\n",
      "<ipython-input-46-9137dd1aeb6d>:20: FutureWarning: The frame.append method is deprecated and will be removed from pandas in a future version. Use pandas.concat instead.\n",
      "  val_data = val_data.append(val_data_in_group)\n",
      "<ipython-input-46-9137dd1aeb6d>:21: FutureWarning: The frame.append method is deprecated and will be removed from pandas in a future version. Use pandas.concat instead.\n",
      "  test_data = test_data.append(test_data_in_group)\n"
     ]
    }
   ],
   "source": [
    "train_data1, val_data1, test_data1 = train_test_val_split(data)"
   ]
  },
  {
   "cell_type": "code",
   "execution_count": 48,
   "id": "75bdfee5",
   "metadata": {
    "colab": {
     "base_uri": "https://localhost:8080/"
    },
    "id": "75bdfee5",
    "outputId": "b4ad6cc9-df10-412c-afbc-c0dcd9b0b250"
   },
   "outputs": [
    {
     "name": "stdout",
     "output_type": "stream",
     "text": [
      "Train data shape: (25599, 2)\n",
      "Test data shape: (3202, 2)\n",
      "Validiation data shape: (3199, 2)\n"
     ]
    }
   ],
   "source": [
    "print(\"Train data shape:\", train_data1.shape)\n",
    "print(\"Test data shape:\", test_data1.shape)\n",
    "print(\"Validiation data shape:\", val_data1.shape)"
   ]
  },
  {
   "attachments": {},
   "cell_type": "markdown",
   "id": "a4ff095a",
   "metadata": {
    "id": "a4ff095a"
   },
   "source": [
    "# Inspection of data"
   ]
  },
  {
   "cell_type": "code",
   "execution_count": 49,
   "id": "narrative-incentive",
   "metadata": {
    "colab": {
     "base_uri": "https://localhost:8080/"
    },
    "id": "narrative-incentive",
    "outputId": "e1d93077-0022-4c17-c3d0-404c2d8b3e07"
   },
   "outputs": [
    {
     "data": {
      "text/plain": [
       "(0    12800\n",
       " 1    12799\n",
       " Name: labels, dtype: int64,\n",
       " 0    1601\n",
       " 1    1601\n",
       " Name: labels, dtype: int64)"
      ]
     },
     "execution_count": 49,
     "metadata": {},
     "output_type": "execute_result"
    }
   ],
   "source": [
    "train_data1.labels.value_counts(), test_data1.labels.value_counts()"
   ]
  },
  {
   "attachments": {},
   "cell_type": "markdown",
   "id": "eb1a3ef6",
   "metadata": {},
   "source": [
    "### Distribution among classes for training, test and validation data"
   ]
  },
  {
   "cell_type": "code",
   "execution_count": 50,
   "id": "f456d0eb",
   "metadata": {
    "colab": {
     "base_uri": "https://localhost:8080/",
     "height": 1000
    },
    "id": "f456d0eb",
    "outputId": "86a776d5-2f5a-4893-85fb-22ba52f9870d"
   },
   "outputs": [
    {
     "data": {
      "image/png": "[encoded data removed]",
      "text/plain": [
       "<Figure size 1080x576 with 1 Axes>"
      ]
     },
     "metadata": {
      "needs_background": "light"
     },
     "output_type": "display_data"
    },
    {
     "data": {
      "image/png": "[encoded data removed]",
      "text/plain": [
       "<Figure size 1080x576 with 1 Axes>"
      ]
     },
     "metadata": {
      "needs_background": "light"
     },
     "output_type": "display_data"
    },
    {
     "data": {
      "image/png": "[encoded data removed]",
      "text/plain": [
       "<Figure size 1080x576 with 1 Axes>"
      ]
     },
     "metadata": {
      "needs_background": "light"
     },
     "output_type": "display_data"
    }
   ],
   "source": [
    "plot_distribution(train_data1, 'Train')\n",
    "plot_distribution(val_data1, 'Val')\n",
    "plot_distribution(test_data1, 'Test')"
   ]
  },
  {
   "attachments": {},
   "cell_type": "markdown",
   "id": "derived-venue",
   "metadata": {
    "id": "derived-venue"
   },
   "source": [
    "The number of samples belonging to class 0 (Non clickbait) and 1 (Clickbait) is perfectly balanced and we do not need to resample."
   ]
  },
  {
   "cell_type": "code",
   "execution_count": 51,
   "id": "T4yUsy-UWbQH",
   "metadata": {
    "id": "T4yUsy-UWbQH"
   },
   "outputs": [],
   "source": [
    "labels_dict1 = {\n",
    "    'Non_Clickbait': 0,\n",
    "    'Clickbait': 1\n",
    "}"
   ]
  },
  {
   "attachments": {},
   "cell_type": "markdown",
   "id": "posted-season",
   "metadata": {
    "id": "posted-season"
   },
   "source": [
    "### Distribution of length of sentences"
   ]
  },
  {
   "cell_type": "code",
   "execution_count": 52,
   "id": "490a694c",
   "metadata": {
    "colab": {
     "base_uri": "https://localhost:8080/",
     "height": 1000
    },
    "id": "490a694c",
    "outputId": "2d1e5107-8d00-4afb-98e4-386a49aaa6ba"
   },
   "outputs": [
    {
     "name": "stderr",
     "output_type": "stream",
     "text": [
      "/home/cristiano/anaconda3/envs/ml/lib/python3.8/site-packages/seaborn/distributions.py:2619: FutureWarning: `distplot` is a deprecated function and will be removed in a future version. Please adapt your code to use either `displot` (a figure-level function with similar flexibility) or `histplot` (an axes-level function for histograms).\n",
      "  warnings.warn(msg, FutureWarning)\n"
     ]
    },
    {
     "data": {
      "image/png": "[encoded data removed]",
      "text/plain": [
       "<Figure size 864x576 with 1 Axes>"
      ]
     },
     "metadata": {
      "needs_background": "light"
     },
     "output_type": "display_data"
    },
    {
     "name": "stderr",
     "output_type": "stream",
     "text": [
      "/home/cristiano/anaconda3/envs/ml/lib/python3.8/site-packages/seaborn/distributions.py:2619: FutureWarning: `distplot` is a deprecated function and will be removed in a future version. Please adapt your code to use either `displot` (a figure-level function with similar flexibility) or `histplot` (an axes-level function for histograms).\n",
      "  warnings.warn(msg, FutureWarning)\n"
     ]
    },
    {
     "data": {
      "image/png": "[encoded data removed]",
      "text/plain": [
       "<Figure size 864x576 with 1 Axes>"
      ]
     },
     "metadata": {
      "needs_background": "light"
     },
     "output_type": "display_data"
    },
    {
     "name": "stderr",
     "output_type": "stream",
     "text": [
      "/home/cristiano/anaconda3/envs/ml/lib/python3.8/site-packages/seaborn/distributions.py:2619: FutureWarning: `distplot` is a deprecated function and will be removed in a future version. Please adapt your code to use either `displot` (a figure-level function with similar flexibility) or `histplot` (an axes-level function for histograms).\n",
      "  warnings.warn(msg, FutureWarning)\n"
     ]
    },
    {
     "data": {
      "image/png": "[encoded data removed]",
      "text/plain": [
       "<Figure size 864x576 with 1 Axes>"
      ]
     },
     "metadata": {
      "needs_background": "light"
     },
     "output_type": "display_data"
    }
   ],
   "source": [
    "plot_length_sentences(train_data1, 'Train')\n",
    "plot_length_sentences(val_data1, 'Val')\n",
    "plot_length_sentences(test_data1, 'Test')"
   ]
  },
  {
   "cell_type": "markdown",
   "id": "czech-science",
   "metadata": {
    "id": "czech-science"
   },
   "source": [
    "Here we can see that the majority of each document contains within 20 - 40 tokens. That is good because we dont have really long seqences of words.\n",
    "\n",
    "This is only by the text column. I didn't include the title in this. "
   ]
  },
  {
   "attachments": {},
   "cell_type": "markdown",
   "id": "inappropriate-music",
   "metadata": {
    "id": "inappropriate-music"
   },
   "source": [
    "# Text Preprocessing \n",
    "## Feature extraction"
   ]
  },
  {
   "cell_type": "code",
   "execution_count": 53,
   "id": "48de515e",
   "metadata": {
    "id": "48de515e"
   },
   "outputs": [],
   "source": [
    "def keras_tokenize(train, val, test) :\n",
    "    tokenizer = Tokenizer(num_words=8000, lower=True)\n",
    "    tokenizer.fit_on_texts(train.text.values)\n",
    "\n",
    "    # Create and Fit tokenizer\n",
    "    X_train = tokenizer.texts_to_sequences(train.text.values)\n",
    "    X_val = tokenizer.texts_to_sequences(val.text.values)\n",
    "    X_test = tokenizer.texts_to_sequences(test.text.values)\n",
    "    \n",
    "    return X_train, X_val, X_test"
   ]
  },
  {
   "cell_type": "code",
   "execution_count": 54,
   "id": "a34b4e1e",
   "metadata": {
    "id": "a34b4e1e"
   },
   "outputs": [],
   "source": [
    "def pad_tokenize(X_train, X_val, X_test, maxlen=MAXLEN) :\n",
    "    # Pad data\n",
    "    X_train_padded = pad_sequences(X_train, padding=\"post\", truncating=\"post\", maxlen=maxlen)\n",
    "    X_val_padded = pad_sequences(X_val, padding=\"post\", truncating=\"post\", maxlen=maxlen)\n",
    "    X_test_padded = pad_sequences(X_test, padding=\"post\", truncating=\"post\", maxlen=maxlen)\n",
    "    \n",
    "    return X_train_padded, X_val_padded, X_test_padded"
   ]
  },
  {
   "cell_type": "code",
   "execution_count": 55,
   "id": "15dbeb1a",
   "metadata": {
    "id": "15dbeb1a"
   },
   "outputs": [],
   "source": [
    "def count_tokenize(train, val, test) :\n",
    "    vect = CountVectorizer(max_features=8000, stop_words=\"english\")\n",
    "\n",
    "    train_bow = vect.fit_transform(train.text.values)\n",
    "    val_bow = vect.transform(val.text.values)\n",
    "    test_bow = vect.transform(test.text.values)\n",
    "    \n",
    "    return train_bow, val_bow, test_bow"
   ]
  },
  {
   "cell_type": "code",
   "execution_count": 56,
   "id": "4f183b22",
   "metadata": {
    "id": "4f183b22"
   },
   "outputs": [],
   "source": [
    "X_train1, X_val1, X_test1 = keras_tokenize(train_data1, val_data1, test_data1)"
   ]
  },
  {
   "cell_type": "code",
   "execution_count": 57,
   "id": "c8eb45e8",
   "metadata": {
    "id": "c8eb45e8"
   },
   "outputs": [],
   "source": [
    "X_train_padded1, X_val_padded1, X_test_padded1 = pad_tokenize(X_train1, X_val1, X_test1)"
   ]
  },
  {
   "cell_type": "code",
   "execution_count": 58,
   "id": "858745e9",
   "metadata": {
    "colab": {
     "base_uri": "https://localhost:8080/"
    },
    "id": "858745e9",
    "outputId": "78170eb5-f612-438b-d486-9e2d0e64197e"
   },
   "outputs": [
    {
     "data": {
      "text/plain": [
       "array([ 172,  759,  878,  517,    2,  647,  388, 5635, 6713,    0,    0,\n",
       "          0,    0,    0,    0,    0,    0,    0,    0,    0], dtype=int32)"
      ]
     },
     "execution_count": 58,
     "metadata": {},
     "output_type": "execute_result"
    }
   ],
   "source": [
    "X_train_padded1[0]"
   ]
  },
  {
   "cell_type": "code",
   "execution_count": 59,
   "id": "50f06b28",
   "metadata": {
    "id": "50f06b28"
   },
   "outputs": [],
   "source": [
    "train_bow1, val_bow1, test_bow1 = count_tokenize(train_data1, val_data1, test_data1)"
   ]
  },
  {
   "attachments": {},
   "cell_type": "markdown",
   "id": "rQIdWxnnftNf",
   "metadata": {
    "id": "rQIdWxnnftNf"
   },
   "source": [
    "# Basic Machine Learning algorithms\n",
    "\n",
    "LogisticRegression, DecisionTreeClassifier and RandomForestClassifier"
   ]
  },
  {
   "cell_type": "code",
   "execution_count": 60,
   "id": "V8kqgXlVfOEt",
   "metadata": {
    "colab": {
     "base_uri": "https://localhost:8080/"
    },
    "id": "V8kqgXlVfOEt",
    "outputId": "8993083e-920b-4f50-9f99-f0b0142808d0"
   },
   "outputs": [
    {
     "name": "stdout",
     "output_type": "stream",
     "text": [
      "   Accuracy  F1 Score  Precision    Recall   ROC_AUC\n",
      "0  0.952798  0.952798   0.952802  0.952798  0.990689\n",
      "Inference time:  0.18517494201660156\n"
     ]
    }
   ],
   "source": [
    "GetModelScores(LogisticRegression(), train_bow1, val_bow1, train_data1.labels, val_data1.labels)"
   ]
  },
  {
   "cell_type": "code",
   "execution_count": 61,
   "id": "A5-XSqMRhDk4",
   "metadata": {
    "colab": {
     "base_uri": "https://localhost:8080/"
    },
    "id": "A5-XSqMRhDk4",
    "outputId": "9549939c-c56b-48fa-fd94-474c15ed89aa",
    "scrolled": true
   },
   "outputs": [
    {
     "name": "stdout",
     "output_type": "stream",
     "text": [
      "   Accuracy  F1 Score  Precision    Recall   ROC_AUC\n",
      "0  0.862457  0.861414   0.873754  0.862457  0.882014\n",
      "Inference time:  3.1349127292633057\n"
     ]
    }
   ],
   "source": [
    "GetModelScores(DecisionTreeClassifier(), train_bow1, val_bow1, train_data1.labels, val_data1.labels)"
   ]
  },
  {
   "cell_type": "code",
   "execution_count": 62,
   "id": "aa5c33c4",
   "metadata": {},
   "outputs": [
    {
     "name": "stdout",
     "output_type": "stream",
     "text": [
      "   Accuracy  F1 Score  Precision    Recall   ROC_AUC\n",
      "0  0.605502   0.54441   0.727886  0.605502  0.741945\n",
      "Inference time:  3.9825973510742188\n"
     ]
    }
   ],
   "source": [
    "GetModelScores(KNeighborsClassifier(), train_bow1, val_bow1, train_data1.labels, val_data1.labels)"
   ]
  },
  {
   "attachments": {},
   "cell_type": "markdown",
   "id": "789e967c",
   "metadata": {},
   "source": [
    "Since the kNN classifier clearly yields worse results, we only tune Logistic Regression and Decision Tree."
   ]
  },
  {
   "attachments": {},
   "cell_type": "markdown",
   "id": "082d5861",
   "metadata": {
    "id": "082d5861"
   },
   "source": [
    "### Parameter tuning via Cross Validation"
   ]
  },
  {
   "cell_type": "code",
   "execution_count": 63,
   "id": "yq6R9OmUIKJx",
   "metadata": {
    "id": "yq6R9OmUIKJx"
   },
   "outputs": [],
   "source": [
    "parameters_lr = {\n",
    "    \"C\": [0.1, 0.01, 1, 0.001]\n",
    "}\n",
    "\n",
    "parameters_dt = {\n",
    "    \"max_depth\": [10, 50, 100, None],\n",
    "    \"min_samples_split\": [2, 5, 10],\n",
    "}"
   ]
  },
  {
   "cell_type": "code",
   "execution_count": 64,
   "id": "j2yQz6M2InGH",
   "metadata": {
    "id": "j2yQz6M2InGH"
   },
   "outputs": [],
   "source": [
    "def search_lr(train_bow, train_data) :\n",
    "    start = time.time()\n",
    "\n",
    "    grid = GridSearchCV(LogisticRegression(), parameters_lr, scoring = 'accuracy', cv = 5, n_jobs =-1)\n",
    "    grid.fit(train_bow, train_data.labels)\n",
    "\n",
    "    end = time.time()\n",
    "    print(\"Inference time: \", end-start)\n",
    "    \n",
    "    return grid\n",
    "\n",
    "def search_dt(train_bow, train_data) :\n",
    "    start = time.time()\n",
    "\n",
    "    grid = GridSearchCV(DecisionTreeClassifier(), parameters_dt, scoring = 'accuracy', cv = 5, n_jobs =-1)\n",
    "    grid.fit(train_bow, train_data.labels)\n",
    "\n",
    "    end = time.time()\n",
    "    print(\"Inference time: \", end-start)\n",
    "    \n",
    "    return grid"
   ]
  },
  {
   "cell_type": "code",
   "execution_count": 65,
   "id": "3132fdc6",
   "metadata": {
    "colab": {
     "base_uri": "https://localhost:8080/"
    },
    "id": "3132fdc6",
    "outputId": "43f08e3b-7b93-4cad-df15-6be6e3f78522"
   },
   "outputs": [
    {
     "name": "stdout",
     "output_type": "stream",
     "text": [
      "Inference time:  2.643157482147217\n",
      "Inference time:  17.72532844543457\n"
     ]
    }
   ],
   "source": [
    "grid_lr = search_lr(train_bow1, train_data1)\n",
    "grid_dt = search_dt(train_bow1, train_data1)"
   ]
  },
  {
   "cell_type": "code",
   "execution_count": 66,
   "id": "nqo_fwb3b6Z-",
   "metadata": {
    "colab": {
     "base_uri": "https://localhost:8080/"
    },
    "id": "nqo_fwb3b6Z-",
    "outputId": "7c1c7485-0096-4aa0-fa29-53ff0e98e005"
   },
   "outputs": [
    {
     "name": "stdout",
     "output_type": "stream",
     "text": [
      "LogisticRegression(C=1)\n",
      "DecisionTreeClassifier(min_samples_split=5)\n"
     ]
    }
   ],
   "source": [
    "print(grid_lr.best_estimator_)\n",
    "print(grid_dt.best_estimator_)"
   ]
  },
  {
   "cell_type": "code",
   "execution_count": 67,
   "id": "af16093c",
   "metadata": {},
   "outputs": [
    {
     "name": "stdout",
     "output_type": "stream",
     "text": [
      "{'C': 1}\n",
      "{'max_depth': None, 'min_samples_split': 5}\n"
     ]
    }
   ],
   "source": [
    "print(grid_lr.best_params_)\n",
    "print(grid_dt.best_params_)"
   ]
  },
  {
   "cell_type": "code",
   "execution_count": 68,
   "id": "DpuHUiLUInDc",
   "metadata": {
    "colab": {
     "base_uri": "https://localhost:8080/"
    },
    "id": "DpuHUiLUInDc",
    "outputId": "abeb7911-1b22-4992-d79c-58e8c25360be"
   },
   "outputs": [
    {
     "name": "stdout",
     "output_type": "stream",
     "text": [
      "Logistic Regression\n",
      "   Accuracy  F1 Score  Precision    Recall   ROC_AUC\n",
      "0  0.952798  0.952798   0.952802  0.952798  0.990689\n",
      "Inference time:  0.019135713577270508\n",
      "Decision Tree Classifier\n",
      "   Accuracy  F1 Score  Precision    Recall   ROC_AUC\n",
      "0  0.886527  0.886326   0.889303  0.886527  0.917014\n",
      "Inference time:  0.03557085990905762\n"
     ]
    }
   ],
   "source": [
    "print('Logistic Regression')\n",
    "GetScores(grid_lr, train_bow1, val_bow1, train_data1.labels, val_data1.labels)\n",
    "print('Decision Tree Classifier')\n",
    "GetScores(grid_dt, train_bow1, val_bow1, train_data1.labels, val_data1.labels)"
   ]
  },
  {
   "cell_type": "code",
   "execution_count": 69,
   "id": "2a71kUO9InBI",
   "metadata": {
    "colab": {
     "base_uri": "https://localhost:8080/",
     "height": 368
    },
    "id": "2a71kUO9InBI",
    "outputId": "d27637ee-9979-4798-9c27-f4fc0bdfef04"
   },
   "outputs": [
    {
     "name": "stderr",
     "output_type": "stream",
     "text": [
      "/home/cristiano/anaconda3/envs/ml/lib/python3.8/site-packages/sklearn/utils/deprecation.py:87: FutureWarning: Function plot_confusion_matrix is deprecated; Function `plot_confusion_matrix` is deprecated in 1.0 and will be removed in 1.2. Use one of the class methods: ConfusionMatrixDisplay.from_predictions or ConfusionMatrixDisplay.from_estimator.\n",
      "  warnings.warn(msg, category=FutureWarning)\n"
     ]
    },
    {
     "data": {
      "text/plain": [
       "<Figure size 1440x1440 with 0 Axes>"
      ]
     },
     "metadata": {},
     "output_type": "display_data"
    },
    {
     "data": {
      "image/png": "[encoded data removed]",
      "text/plain": [
       "<Figure size 432x288 with 2 Axes>"
      ]
     },
     "metadata": {
      "needs_background": "light"
     },
     "output_type": "display_data"
    }
   ],
   "source": [
    "plt.figure(figsize=(20,20))\n",
    "plt.rc('font', size=15)\n",
    "plot_confusion_matrix(grid_lr, val_bow1, val_data1.labels)\n",
    "plt.savefig('confusion_ml_click.pdf', dpi='figure')\n",
    "# plot_confusion_matrix(grid_dt, val_bow1, val_data1.labels)"
   ]
  },
  {
   "attachments": {},
   "cell_type": "markdown",
   "id": "dying-bride",
   "metadata": {
    "id": "dying-bride"
   },
   "source": [
    "# Recurrent Neural Networks"
   ]
  },
  {
   "attachments": {},
   "cell_type": "markdown",
   "id": "548fc995",
   "metadata": {
    "id": "548fc995"
   },
   "source": [
    "### Simple RNN"
   ]
  },
  {
   "cell_type": "code",
   "execution_count": 70,
   "id": "coral-brother",
   "metadata": {
    "id": "coral-brother"
   },
   "outputs": [],
   "source": [
    "tf.keras.backend.clear_session()"
   ]
  },
  {
   "cell_type": "code",
   "execution_count": 75,
   "id": "26bc7cfd",
   "metadata": {},
   "outputs": [],
   "source": [
    "LearningRate = 0.001\n",
    "dropout = 0.1"
   ]
  },
  {
   "cell_type": "code",
   "execution_count": 76,
   "id": "8c8f2700",
   "metadata": {},
   "outputs": [
    {
     "data": {
      "text/plain": [
       "array([[ 172,  759,  878, ...,    0,    0,    0],\n",
       "       [ 146, 1145, 5636, ...,    0,    0,    0],\n",
       "       [  19,  160, 1220, ...,    0,    0,    0],\n",
       "       ...,\n",
       "       [ 515,   74,  175, ...,    0,    0,    0],\n",
       "       [  26, 2272,  666, ...,    0,    0,    0],\n",
       "       [ 729, 1036, 1724, ...,    0,    0,    0]], dtype=int32)"
      ]
     },
     "execution_count": 76,
     "metadata": {},
     "output_type": "execute_result"
    }
   ],
   "source": [
    "X_train_padded1"
   ]
  },
  {
   "attachments": {},
   "cell_type": "markdown",
   "id": "e2163e44",
   "metadata": {},
   "source": [
    "Most simple rnn"
   ]
  },
  {
   "cell_type": "code",
   "execution_count": 77,
   "id": "a53338b4",
   "metadata": {},
   "outputs": [
    {
     "name": "stdout",
     "output_type": "stream",
     "text": [
      "Epoch 1/10\n",
      "25/25 [==============================] - 2s 24ms/step - loss: 0.3110 - accuracy: 0.8932 - val_loss: 0.1380 - val_accuracy: 0.9675\n",
      "Epoch 2/10\n",
      "25/25 [==============================] - 0s 18ms/step - loss: 0.0916 - accuracy: 0.9802 - val_loss: 0.1022 - val_accuracy: 0.9703\n",
      "Epoch 3/10\n",
      "25/25 [==============================] - 0s 17ms/step - loss: 0.0538 - accuracy: 0.9884 - val_loss: 0.0997 - val_accuracy: 0.9725\n",
      "Epoch 4/10\n",
      "25/25 [==============================] - 0s 17ms/step - loss: 0.0359 - accuracy: 0.9923 - val_loss: 0.1058 - val_accuracy: 0.9697\n",
      "Epoch 5/10\n",
      "25/25 [==============================] - 0s 16ms/step - loss: 0.0238 - accuracy: 0.9950 - val_loss: 0.1078 - val_accuracy: 0.9737\n",
      "   Accuracy  F1 Score  Precision    Recall  ROC_AUC\n",
      "0  0.972491  0.972491   0.972498  0.972491        0\n",
      "Inference time:  0.3624742031097412\n"
     ]
    },
    {
     "data": {
      "text/plain": [
       "<Figure size 864x864 with 0 Axes>"
      ]
     },
     "metadata": {},
     "output_type": "display_data"
    },
    {
     "data": {
      "image/png": "[encoded data removed]",
      "text/plain": [
       "<Figure size 432x288 with 2 Axes>"
      ]
     },
     "metadata": {
      "needs_background": "light"
     },
     "output_type": "display_data"
    }
   ],
   "source": [
    "# Define the model\n",
    "simple_rnn = Sequential()\n",
    "simple_rnn.add(Embedding(input_dim = VOCAB_SIZE, output_dim = EMBEDDING_DIM, input_length = MAXLEN))\n",
    "simple_rnn.add(SimpleRNN(16))\n",
    "simple_rnn.add(Dense(2, activation='sigmoid'))\n",
    "\n",
    "simple_rnn.compile(optimizer = RMSprop(learning_rate=(0.001)), \n",
    "             loss = SparseCategoricalCrossentropy(), \n",
    "             metrics = ['accuracy'])\n",
    "simple_rnn_history1 = simple_rnn.fit(x = X_train_padded1, y = train_data1.labels.values, epochs = 10,\n",
    "                callbacks = [TensorBoard(log_dir = \"logs_rnn_basic\"), \n",
    "                             EarlyStopping(patience = 2, restore_best_weights=True)],\n",
    "                validation_data=(X_val_padded1, val_data1.labels.values), batch_size = 1024)\n",
    "\n",
    "\n",
    "\n",
    "GetScoresNN(simple_rnn, X_train_padded1, X_val_padded1, train_data1.labels, val_data1.labels)\n",
    "confusion_matrix_NN(simple_rnn, val_data1, X_val_padded1, labels_dict1, 'simple')\n"
   ]
  },
  {
   "cell_type": "code",
   "execution_count": 78,
   "id": "df563e35",
   "metadata": {},
   "outputs": [
    {
     "data": {
      "image/png": "[encoded data removed]",
      "text/plain": [
       "<Figure size 864x648 with 1 Axes>"
      ]
     },
     "metadata": {
      "needs_background": "light"
     },
     "output_type": "display_data"
    },
    {
     "data": {
      "image/png": "[encoded data removed]",
      "text/plain": [
       "<Figure size 864x648 with 1 Axes>"
      ]
     },
     "metadata": {
      "needs_background": "light"
     },
     "output_type": "display_data"
    }
   ],
   "source": [
    "plot_accuracy_curve(simple_rnn_history1, 'SimpleRNN')\n",
    "plot_loss_curve(simple_rnn_history1, 'SimpleRNN')"
   ]
  },
  {
   "attachments": {},
   "cell_type": "markdown",
   "id": "d758f97f",
   "metadata": {},
   "source": [
    "### A more complex RNN"
   ]
  },
  {
   "cell_type": "code",
   "execution_count": 79,
   "id": "f124a695",
   "metadata": {
    "id": "f124a695"
   },
   "outputs": [],
   "source": [
    "rnn = Sequential([\n",
    "    Embedding(input_dim = VOCAB_SIZE, output_dim = EMBEDDING_DIM, input_length = MAXLEN),\n",
    "    SimpleRNN(64, return_sequences = True),\n",
    "    Dropout(dropout),\n",
    "    SimpleRNN(64, return_sequences = True),\n",
    "    Dropout(dropout),\n",
    "    SimpleRNN(32, return_sequences = True),\n",
    "    Dropout(dropout),\n",
    "    SimpleRNN(16),\n",
    "    Dropout(dropout),\n",
    "    Dense(4, activation='sigmoid')\n",
    "])\n"
   ]
  },
  {
   "cell_type": "code",
   "execution_count": 80,
   "id": "wicked-sperm",
   "metadata": {
    "id": "wicked-sperm"
   },
   "outputs": [],
   "source": [
    "rnn.compile(optimizer = RMSprop(learning_rate=(0.001)), \n",
    "             loss = SparseCategoricalCrossentropy(), \n",
    "             metrics = ['accuracy'])"
   ]
  },
  {
   "cell_type": "code",
   "execution_count": 81,
   "id": "consistent-classic",
   "metadata": {
    "colab": {
     "base_uri": "https://localhost:8080/"
    },
    "id": "consistent-classic",
    "outputId": "c48b4a58-295a-4d43-a393-20b13356bef9"
   },
   "outputs": [
    {
     "name": "stdout",
     "output_type": "stream",
     "text": [
      "Epoch 1/10\n",
      "25/25 [==============================] - 7s 126ms/step - loss: 0.5907 - accuracy: 0.7666 - val_loss: 0.1885 - val_accuracy: 0.9597\n",
      "Epoch 2/10\n",
      "25/25 [==============================] - 3s 110ms/step - loss: 0.1758 - accuracy: 0.9593 - val_loss: 0.1253 - val_accuracy: 0.9687\n",
      "Epoch 3/10\n",
      "25/25 [==============================] - 3s 106ms/step - loss: 0.0855 - accuracy: 0.9820 - val_loss: 0.1041 - val_accuracy: 0.9694\n",
      "Epoch 4/10\n",
      "25/25 [==============================] - 3s 105ms/step - loss: 0.0565 - accuracy: 0.9874 - val_loss: 0.0988 - val_accuracy: 0.9725\n",
      "Epoch 5/10\n",
      "25/25 [==============================] - 3s 104ms/step - loss: 0.0342 - accuracy: 0.9927 - val_loss: 0.1057 - val_accuracy: 0.9725\n",
      "Epoch 6/10\n",
      "25/25 [==============================] - 3s 109ms/step - loss: 0.0229 - accuracy: 0.9953 - val_loss: 0.1133 - val_accuracy: 0.9722\n"
     ]
    }
   ],
   "source": [
    "rnn_history1 = rnn.fit(x = X_train_padded1, y = train_data1.labels.values, epochs = 10,\n",
    "                callbacks = [TensorBoard(log_dir = \"logs_rnn_basic\"), \n",
    "                             EarlyStopping(patience = 2, restore_best_weights=True)],\n",
    "                validation_data=(X_val_padded1, val_data1.labels.values), batch_size = 1024)"
   ]
  },
  {
   "cell_type": "code",
   "execution_count": 83,
   "id": "V-WQFzh2F3zB",
   "metadata": {
    "colab": {
     "base_uri": "https://localhost:8080/"
    },
    "id": "V-WQFzh2F3zB",
    "outputId": "0fab2c54-bfd4-4589-9cdb-299c22204874",
    "scrolled": true
   },
   "outputs": [
    {
     "name": "stdout",
     "output_type": "stream",
     "text": [
      "   Accuracy  F1 Score  Precision    Recall  ROC_AUC\n",
      "0  0.972491  0.972491    0.97251  0.972491        0\n",
      "Inference time:  0.5879621505737305\n"
     ]
    }
   ],
   "source": [
    "GetScoresNN(rnn, X_train_padded1, X_val_padded1, train_data1.labels, val_data1.labels)"
   ]
  },
  {
   "cell_type": "code",
   "execution_count": 82,
   "id": "736ba65d",
   "metadata": {
    "colab": {
     "base_uri": "https://localhost:8080/",
     "height": 282
    },
    "id": "736ba65d",
    "outputId": "f81ec463-f771-4aed-d671-398f246918ec"
   },
   "outputs": [
    {
     "data": {
      "text/plain": [
       "<Figure size 864x864 with 0 Axes>"
      ]
     },
     "metadata": {},
     "output_type": "display_data"
    },
    {
     "data": {
      "image/png": "[encoded data removed]",
      "text/plain": [
       "<Figure size 432x288 with 2 Axes>"
      ]
     },
     "metadata": {
      "needs_background": "light"
     },
     "output_type": "display_data"
    }
   ],
   "source": [
    "confusion_matrix_NN(rnn, val_data1, X_val_padded1, labels_dict1, 'RNN')"
   ]
  },
  {
   "cell_type": "code",
   "execution_count": 84,
   "id": "0707fe49",
   "metadata": {},
   "outputs": [
    {
     "data": {
      "image/png": "[encoded data removed]",
      "text/plain": [
       "<Figure size 864x648 with 1 Axes>"
      ]
     },
     "metadata": {
      "needs_background": "light"
     },
     "output_type": "display_data"
    },
    {
     "data": {
      "image/png": "[encoded data removed]",
      "text/plain": [
       "<Figure size 864x648 with 1 Axes>"
      ]
     },
     "metadata": {
      "needs_background": "light"
     },
     "output_type": "display_data"
    }
   ],
   "source": [
    "plot_accuracy_curve(rnn_history1, 'RNN')\n",
    "plot_loss_curve(rnn_history1, 'RNN')"
   ]
  },
  {
   "attachments": {},
   "cell_type": "markdown",
   "id": "m25RFj4E6_SM",
   "metadata": {
    "id": "m25RFj4E6_SM"
   },
   "source": [
    "### Bi-Directional LSTM"
   ]
  },
  {
   "cell_type": "code",
   "execution_count": 85,
   "id": "71ba7a8b",
   "metadata": {
    "id": "71ba7a8b"
   },
   "outputs": [],
   "source": [
    "def create_lstm(nb_outputs, activation=\"sigmoid\", input_length=MAXLEN) :\n",
    "    model = Sequential()\n",
    "    model.add(Embedding(VOCAB_SIZE, EMBEDDING_DIM, input_length=input_length))\n",
    "    model.add(Bidirectional(LSTM(128, return_sequences=True))) \n",
    "    model.add(Bidirectional(LSTM(64, return_sequences=True)))\n",
    "    model.add(GlobalMaxPooling1D())\n",
    "    model.add(Dense(256))\n",
    "    model.add(Dropout(dropout))\n",
    "    model.add(Dense(128))\n",
    "    model.add(Dropout(dropout))\n",
    "    model.add(Dense(64))\n",
    "    model.add(Dropout(dropout))\n",
    "    model.add(Dense(nb_outputs, activation=activation))\n",
    "    #model.summary()\n",
    "    \n",
    "    return model"
   ]
  },
  {
   "cell_type": "code",
   "execution_count": 87,
   "id": "679eceb3",
   "metadata": {
    "id": "679eceb3"
   },
   "outputs": [],
   "source": [
    "lstm1 = create_lstm(2)"
   ]
  },
  {
   "cell_type": "code",
   "execution_count": 88,
   "id": "9cd5dfbb",
   "metadata": {
    "id": "9cd5dfbb"
   },
   "outputs": [],
   "source": [
    "lstm1.compile(loss='sparse_categorical_crossentropy', #Sparse Categorical Crossentropy Loss because data is not one-hot encoded\n",
    "              optimizer=RMSprop(learning_rate=(0.001)), \n",
    "              metrics=['accuracy']) "
   ]
  },
  {
   "cell_type": "code",
   "execution_count": 89,
   "id": "35ead4b0",
   "metadata": {
    "colab": {
     "base_uri": "https://localhost:8080/"
    },
    "id": "35ead4b0",
    "outputId": "ddf2e5f1-9402-4801-8746-ea87ee279fe2"
   },
   "outputs": [
    {
     "name": "stdout",
     "output_type": "stream",
     "text": [
      "Epoch 1/10\n",
      "25/25 [==============================] - 23s 657ms/step - loss: 0.3261 - accuracy: 0.8535 - val_loss: 0.0902 - val_accuracy: 0.9678\n",
      "Epoch 2/10\n",
      "25/25 [==============================] - 18s 724ms/step - loss: 0.0627 - accuracy: 0.9788 - val_loss: 0.0905 - val_accuracy: 0.9641\n",
      "Epoch 3/10\n",
      "25/25 [==============================] - 17s 656ms/step - loss: 0.0410 - accuracy: 0.9864 - val_loss: 0.0805 - val_accuracy: 0.9672\n",
      "Epoch 4/10\n",
      "25/25 [==============================] - 15s 599ms/step - loss: 0.0293 - accuracy: 0.9905 - val_loss: 0.0749 - val_accuracy: 0.9750\n",
      "Epoch 5/10\n",
      "25/25 [==============================] - 14s 573ms/step - loss: 0.0188 - accuracy: 0.9934 - val_loss: 0.0740 - val_accuracy: 0.9731\n",
      "Epoch 6/10\n",
      "25/25 [==============================] - 14s 556ms/step - loss: 0.0145 - accuracy: 0.9954 - val_loss: 0.1482 - val_accuracy: 0.9737\n",
      "Epoch 7/10\n",
      "25/25 [==============================] - 15s 601ms/step - loss: 0.0108 - accuracy: 0.9969 - val_loss: 0.1212 - val_accuracy: 0.9728\n"
     ]
    }
   ],
   "source": [
    "lstm_history = lstm1.fit(x = X_train_padded1, y = train_data1.labels.values, epochs = 10,\n",
    "          callbacks =  [EarlyStopping(patience = 2, restore_best_weights=True)],\n",
    "          validation_data=(X_val_padded1, val_data1.labels.values), batch_size = 1024)"
   ]
  },
  {
   "cell_type": "code",
   "execution_count": 90,
   "id": "c6b032b8",
   "metadata": {
    "colab": {
     "base_uri": "https://localhost:8080/"
    },
    "id": "c6b032b8",
    "outputId": "e404c72c-2998-4d7d-e405-387084bb4d67"
   },
   "outputs": [
    {
     "name": "stdout",
     "output_type": "stream",
     "text": [
      "   Accuracy  F1 Score  Precision    Recall  ROC_AUC\n",
      "0  0.973117  0.973111   0.973508  0.973117        0\n",
      "Inference time:  3.11047101020813\n"
     ]
    }
   ],
   "source": [
    "GetScoresNN(lstm1, X_train_padded1, X_val_padded1, train_data1.labels, val_data1.labels)"
   ]
  },
  {
   "cell_type": "code",
   "execution_count": 91,
   "id": "4af67779",
   "metadata": {
    "colab": {
     "base_uri": "https://localhost:8080/",
     "height": 282
    },
    "id": "4af67779",
    "outputId": "bf08f32d-44ba-4d1c-a350-433b8cafbc24"
   },
   "outputs": [
    {
     "data": {
      "text/plain": [
       "<Figure size 864x864 with 0 Axes>"
      ]
     },
     "metadata": {},
     "output_type": "display_data"
    },
    {
     "data": {
      "image/png": "[encoded data removed]",
      "text/plain": [
       "<Figure size 432x288 with 2 Axes>"
      ]
     },
     "metadata": {
      "needs_background": "light"
     },
     "output_type": "display_data"
    }
   ],
   "source": [
    "confusion_matrix_NN(lstm1, val_data1, X_val_padded1, labels_dict1, 'lstm')"
   ]
  },
  {
   "cell_type": "code",
   "execution_count": 92,
   "id": "c0a09288",
   "metadata": {},
   "outputs": [
    {
     "data": {
      "image/png": "[encoded data removed]",
      "text/plain": [
       "<Figure size 864x648 with 1 Axes>"
      ]
     },
     "metadata": {
      "needs_background": "light"
     },
     "output_type": "display_data"
    },
    {
     "data": {
      "image/png": "[encoded data removed]",
      "text/plain": [
       "<Figure size 864x648 with 1 Axes>"
      ]
     },
     "metadata": {
      "needs_background": "light"
     },
     "output_type": "display_data"
    }
   ],
   "source": [
    "plot_accuracy_curve(lstm_history, 'lstm')\n",
    "plot_loss_curve(lstm_history, 'lstm')"
   ]
  }
 ],
 "metadata": {
  "accelerator": "GPU",
  "colab": {
   "collapsed_sections": [
    "XdQ6L8ziQNa_",
    "79cff5a4"
   ],
   "name": "Copy_of_Data1_and_2.ipynb",
   "provenance": []
  },
  "gpuClass": "standard",
  "kernelspec": {
   "display_name": "Python 3",
   "language": "python",
   "name": "python3"
  },
  "language_info": {
   "codemirror_mode": {
    "name": "ipython",
    "version": 3
   },
   "file_extension": ".py",
   "mimetype": "text/x-python",
   "name": "python",
   "nbconvert_exporter": "python",
   "pygments_lexer": "ipython3",
   "version": "3.8.11"
  },
  "vscode": {
   "interpreter": {
    "hash": "ae50877025e11e0e4f14b4abd9b42b17237013a54a9c8e0b781fea1cef6e6ca7"
   }
  },
  "widgets": {
   "application/vnd.jupyter.widget-state+json": {
    "057a80dd0d764158a7fa7804b0d8a7f2": {
     "model_module": "@jupyter-widgets/base",
     "model_module_version": "1.2.0",
     "model_name": "LayoutModel",
     "state": {
      "_model_module": "@jupyter-widgets/base",
      "_model_module_version": "1.2.0",
      "_model_name": "LayoutModel",
      "_view_count": null,
      "_view_module": "@jupyter-widgets/base",
      "_view_module_version": "1.2.0",
      "_view_name": "LayoutView",
      "align_content": null,
      "align_items": null,
      "align_self": null,
      "border": null,
      "bottom": null,
      "display": null,
      "flex": null,
      "flex_flow": null,
      "grid_area": null,
      "grid_auto_columns": null,
      "grid_auto_flow": null,
      "grid_auto_rows": null,
      "grid_column": null,
      "grid_gap": null,
      "grid_row": null,
      "grid_template_areas": null,
      "grid_template_columns": null,
      "grid_template_rows": null,
      "height": null,
      "justify_content": null,
      "justify_items": null,
      "left": null,
      "margin": null,
      "max_height": null,
      "max_width": null,
      "min_height": null,
      "min_width": null,
      "object_fit": null,
      "object_position": null,
      "order": null,
      "overflow": null,
      "overflow_x": null,
      "overflow_y": null,
      "padding": null,
      "right": null,
      "top": null,
      "visibility": null,
      "width": null
     }
    },
    "08f126f3ed90434295004721d48af39a": {
     "model_module": "@jupyter-widgets/controls",
     "model_module_version": "1.5.0",
     "model_name": "HBoxModel",
     "state": {
      "_dom_classes": [],
      "_model_module": "@jupyter-widgets/controls",
      "_model_module_version": "1.5.0",
      "_model_name": "HBoxModel",
      "_view_count": null,
      "_view_module": "@jupyter-widgets/controls",
      "_view_module_version": "1.5.0",
      "_view_name": "HBoxView",
      "box_style": "",
      "children": [
       "IPY_MODEL_2f0de974f4c441b69a729c71c5a393ed",
       "IPY_MODEL_1e239269168a4e91b4b82d47e037c782",
       "IPY_MODEL_23cff1b2816e4c648f09fa099d29aaef"
      ],
      "layout": "IPY_MODEL_e963b53cda494dea84df4c5bdbd3b53d"
     }
    },
    "156d2dc0753e481e9c64b5b063eaa1ae": {
     "model_module": "@jupyter-widgets/base",
     "model_module_version": "1.2.0",
     "model_name": "LayoutModel",
     "state": {
      "_model_module": "@jupyter-widgets/base",
      "_model_module_version": "1.2.0",
      "_model_name": "LayoutModel",
      "_view_count": null,
      "_view_module": "@jupyter-widgets/base",
      "_view_module_version": "1.2.0",
      "_view_name": "LayoutView",
      "align_content": null,
      "align_items": null,
      "align_self": null,
      "border": null,
      "bottom": null,
      "display": null,
      "flex": null,
      "flex_flow": null,
      "grid_area": null,
      "grid_auto_columns": null,
      "grid_auto_flow": null,
      "grid_auto_rows": null,
      "grid_column": null,
      "grid_gap": null,
      "grid_row": null,
      "grid_template_areas": null,
      "grid_template_columns": null,
      "grid_template_rows": null,
      "height": null,
      "justify_content": null,
      "justify_items": null,
      "left": null,
      "margin": null,
      "max_height": null,
      "max_width": null,
      "min_height": null,
      "min_width": null,
      "object_fit": null,
      "object_position": null,
      "order": null,
      "overflow": null,
      "overflow_x": null,
      "overflow_y": null,
      "padding": null,
      "right": null,
      "top": null,
      "visibility": null,
      "width": null
     }
    },
    "15f734c5aa9e4bd0b5e6b05d7e61e8c7": {
     "model_module": "@jupyter-widgets/controls",
     "model_module_version": "1.5.0",
     "model_name": "ProgressStyleModel",
     "state": {
      "_model_module": "@jupyter-widgets/controls",
      "_model_module_version": "1.5.0",
      "_model_name": "ProgressStyleModel",
      "_view_count": null,
      "_view_module": "@jupyter-widgets/base",
      "_view_module_version": "1.2.0",
      "_view_name": "StyleView",
      "bar_color": null,
      "description_width": ""
     }
    },
    "18bb3346ca014dcbaaa71517ac671386": {
     "model_module": "@jupyter-widgets/base",
     "model_module_version": "1.2.0",
     "model_name": "LayoutModel",
     "state": {
      "_model_module": "@jupyter-widgets/base",
      "_model_module_version": "1.2.0",
      "_model_name": "LayoutModel",
      "_view_count": null,
      "_view_module": "@jupyter-widgets/base",
      "_view_module_version": "1.2.0",
      "_view_name": "LayoutView",
      "align_content": null,
      "align_items": null,
      "align_self": null,
      "border": null,
      "bottom": null,
      "display": null,
      "flex": null,
      "flex_flow": null,
      "grid_area": null,
      "grid_auto_columns": null,
      "grid_auto_flow": null,
      "grid_auto_rows": null,
      "grid_column": null,
      "grid_gap": null,
      "grid_row": null,
      "grid_template_areas": null,
      "grid_template_columns": null,
      "grid_template_rows": null,
      "height": null,
      "justify_content": null,
      "justify_items": null,
      "left": null,
      "margin": null,
      "max_height": null,
      "max_width": null,
      "min_height": null,
      "min_width": null,
      "object_fit": null,
      "object_position": null,
      "order": null,
      "overflow": null,
      "overflow_x": null,
      "overflow_y": null,
      "padding": null,
      "right": null,
      "top": null,
      "visibility": null,
      "width": null
     }
    },
    "1b051064b7084e968c1246e275fc884c": {
     "model_module": "@jupyter-widgets/controls",
     "model_module_version": "1.5.0",
     "model_name": "HTMLModel",
     "state": {
      "_dom_classes": [],
      "_model_module": "@jupyter-widgets/controls",
      "_model_module_version": "1.5.0",
      "_model_name": "HTMLModel",
      "_view_count": null,
      "_view_module": "@jupyter-widgets/controls",
      "_view_module_version": "1.5.0",
      "_view_name": "HTMLView",
      "description": "",
      "description_tooltip": null,
      "layout": "IPY_MODEL_abc5d35ca07c4eed908f55403014b8a5",
      "placeholder": "​",
      "style": "IPY_MODEL_9827451e5790400f9b2a1c5cbaf6b4a8",
      "value": "Downloading: 100%"
     }
    },
    "1c1dc89252834037927e7b6af069f8a6": {
     "model_module": "@jupyter-widgets/base",
     "model_module_version": "1.2.0",
     "model_name": "LayoutModel",
     "state": {
      "_model_module": "@jupyter-widgets/base",
      "_model_module_version": "1.2.0",
      "_model_name": "LayoutModel",
      "_view_count": null,
      "_view_module": "@jupyter-widgets/base",
      "_view_module_version": "1.2.0",
      "_view_name": "LayoutView",
      "align_content": null,
      "align_items": null,
      "align_self": null,
      "border": null,
      "bottom": null,
      "display": null,
      "flex": null,
      "flex_flow": null,
      "grid_area": null,
      "grid_auto_columns": null,
      "grid_auto_flow": null,
      "grid_auto_rows": null,
      "grid_column": null,
      "grid_gap": null,
      "grid_row": null,
      "grid_template_areas": null,
      "grid_template_columns": null,
      "grid_template_rows": null,
      "height": null,
      "justify_content": null,
      "justify_items": null,
      "left": null,
      "margin": null,
      "max_height": null,
      "max_width": null,
      "min_height": null,
      "min_width": null,
      "object_fit": null,
      "object_position": null,
      "order": null,
      "overflow": null,
      "overflow_x": null,
      "overflow_y": null,
      "padding": null,
      "right": null,
      "top": null,
      "visibility": null,
      "width": null
     }
    },
    "1e239269168a4e91b4b82d47e037c782": {
     "model_module": "@jupyter-widgets/controls",
     "model_module_version": "1.5.0",
     "model_name": "FloatProgressModel",
     "state": {
      "_dom_classes": [],
      "_model_module": "@jupyter-widgets/controls",
      "_model_module_version": "1.5.0",
      "_model_name": "FloatProgressModel",
      "_view_count": null,
      "_view_module": "@jupyter-widgets/controls",
      "_view_module_version": "1.5.0",
      "_view_name": "ProgressView",
      "bar_style": "success",
      "description": "",
      "description_tooltip": null,
      "layout": "IPY_MODEL_d4f5e0540dc2422cacc1a9b47e3699f3",
      "max": 363423424,
      "min": 0,
      "orientation": "horizontal",
      "style": "IPY_MODEL_4face1cf3c2349dbaa70b9590c526091",
      "value": 363423424
     }
    },
    "1f203273c5ac4e33aaaa34a1056acd6f": {
     "model_module": "@jupyter-widgets/controls",
     "model_module_version": "1.5.0",
     "model_name": "HBoxModel",
     "state": {
      "_dom_classes": [],
      "_model_module": "@jupyter-widgets/controls",
      "_model_module_version": "1.5.0",
      "_model_name": "HBoxModel",
      "_view_count": null,
      "_view_module": "@jupyter-widgets/controls",
      "_view_module_version": "1.5.0",
      "_view_name": "HBoxView",
      "box_style": "",
      "children": [
       "IPY_MODEL_6f9ba041d20c4f84a274d009d059c666",
       "IPY_MODEL_7ef6b3c7ff8441fb93796ce320dcf87e",
       "IPY_MODEL_e07e2025e4624168aa5c33ec8ac09d7b"
      ],
      "layout": "IPY_MODEL_f8f6a4eddb36415ab2a4ab084b7d850a"
     }
    },
    "1f356225d380484cb7dd5a5ce17d0e18": {
     "model_module": "@jupyter-widgets/base",
     "model_module_version": "1.2.0",
     "model_name": "LayoutModel",
     "state": {
      "_model_module": "@jupyter-widgets/base",
      "_model_module_version": "1.2.0",
      "_model_name": "LayoutModel",
      "_view_count": null,
      "_view_module": "@jupyter-widgets/base",
      "_view_module_version": "1.2.0",
      "_view_name": "LayoutView",
      "align_content": null,
      "align_items": null,
      "align_self": null,
      "border": null,
      "bottom": null,
      "display": null,
      "flex": null,
      "flex_flow": null,
      "grid_area": null,
      "grid_auto_columns": null,
      "grid_auto_flow": null,
      "grid_auto_rows": null,
      "grid_column": null,
      "grid_gap": null,
      "grid_row": null,
      "grid_template_areas": null,
      "grid_template_columns": null,
      "grid_template_rows": null,
      "height": null,
      "justify_content": null,
      "justify_items": null,
      "left": null,
      "margin": null,
      "max_height": null,
      "max_width": null,
      "min_height": null,
      "min_width": null,
      "object_fit": null,
      "object_position": null,
      "order": null,
      "overflow": null,
      "overflow_x": null,
      "overflow_y": null,
      "padding": null,
      "right": null,
      "top": null,
      "visibility": null,
      "width": null
     }
    },
    "201855922f3441e6bb87ea68dcab731b": {
     "model_module": "@jupyter-widgets/base",
     "model_module_version": "1.2.0",
     "model_name": "LayoutModel",
     "state": {
      "_model_module": "@jupyter-widgets/base",
      "_model_module_version": "1.2.0",
      "_model_name": "LayoutModel",
      "_view_count": null,
      "_view_module": "@jupyter-widgets/base",
      "_view_module_version": "1.2.0",
      "_view_name": "LayoutView",
      "align_content": null,
      "align_items": null,
      "align_self": null,
      "border": null,
      "bottom": null,
      "display": null,
      "flex": null,
      "flex_flow": null,
      "grid_area": null,
      "grid_auto_columns": null,
      "grid_auto_flow": null,
      "grid_auto_rows": null,
      "grid_column": null,
      "grid_gap": null,
      "grid_row": null,
      "grid_template_areas": null,
      "grid_template_columns": null,
      "grid_template_rows": null,
      "height": null,
      "justify_content": null,
      "justify_items": null,
      "left": null,
      "margin": null,
      "max_height": null,
      "max_width": null,
      "min_height": null,
      "min_width": null,
      "object_fit": null,
      "object_position": null,
      "order": null,
      "overflow": null,
      "overflow_x": null,
      "overflow_y": null,
      "padding": null,
      "right": null,
      "top": null,
      "visibility": null,
      "width": null
     }
    },
    "2143e1c3d9004af2b6ee6aa7586aa93a": {
     "model_module": "@jupyter-widgets/base",
     "model_module_version": "1.2.0",
     "model_name": "LayoutModel",
     "state": {
      "_model_module": "@jupyter-widgets/base",
      "_model_module_version": "1.2.0",
      "_model_name": "LayoutModel",
      "_view_count": null,
      "_view_module": "@jupyter-widgets/base",
      "_view_module_version": "1.2.0",
      "_view_name": "LayoutView",
      "align_content": null,
      "align_items": null,
      "align_self": null,
      "border": null,
      "bottom": null,
      "display": null,
      "flex": null,
      "flex_flow": null,
      "grid_area": null,
      "grid_auto_columns": null,
      "grid_auto_flow": null,
      "grid_auto_rows": null,
      "grid_column": null,
      "grid_gap": null,
      "grid_row": null,
      "grid_template_areas": null,
      "grid_template_columns": null,
      "grid_template_rows": null,
      "height": null,
      "justify_content": null,
      "justify_items": null,
      "left": null,
      "margin": null,
      "max_height": null,
      "max_width": null,
      "min_height": null,
      "min_width": null,
      "object_fit": null,
      "object_position": null,
      "order": null,
      "overflow": null,
      "overflow_x": null,
      "overflow_y": null,
      "padding": null,
      "right": null,
      "top": null,
      "visibility": null,
      "width": null
     }
    },
    "23cff1b2816e4c648f09fa099d29aaef": {
     "model_module": "@jupyter-widgets/controls",
     "model_module_version": "1.5.0",
     "model_name": "HTMLModel",
     "state": {
      "_dom_classes": [],
      "_model_module": "@jupyter-widgets/controls",
      "_model_module_version": "1.5.0",
      "_model_name": "HTMLModel",
      "_view_count": null,
      "_view_module": "@jupyter-widgets/controls",
      "_view_module_version": "1.5.0",
      "_view_name": "HTMLView",
      "description": "",
      "description_tooltip": null,
      "layout": "IPY_MODEL_2819774439484cedb9c01394d5a8d68f",
      "placeholder": "​",
      "style": "IPY_MODEL_b7e539ceaddd41d19cd21854e5d2a5b1",
      "value": " 347M/347M [00:06&lt;00:00, 64.9MB/s]"
     }
    },
    "2819774439484cedb9c01394d5a8d68f": {
     "model_module": "@jupyter-widgets/base",
     "model_module_version": "1.2.0",
     "model_name": "LayoutModel",
     "state": {
      "_model_module": "@jupyter-widgets/base",
      "_model_module_version": "1.2.0",
      "_model_name": "LayoutModel",
      "_view_count": null,
      "_view_module": "@jupyter-widgets/base",
      "_view_module_version": "1.2.0",
      "_view_name": "LayoutView",
      "align_content": null,
      "align_items": null,
      "align_self": null,
      "border": null,
      "bottom": null,
      "display": null,
      "flex": null,
      "flex_flow": null,
      "grid_area": null,
      "grid_auto_columns": null,
      "grid_auto_flow": null,
      "grid_auto_rows": null,
      "grid_column": null,
      "grid_gap": null,
      "grid_row": null,
      "grid_template_areas": null,
      "grid_template_columns": null,
      "grid_template_rows": null,
      "height": null,
      "justify_content": null,
      "justify_items": null,
      "left": null,
      "margin": null,
      "max_height": null,
      "max_width": null,
      "min_height": null,
      "min_width": null,
      "object_fit": null,
      "object_position": null,
      "order": null,
      "overflow": null,
      "overflow_x": null,
      "overflow_y": null,
      "padding": null,
      "right": null,
      "top": null,
      "visibility": null,
      "width": null
     }
    },
    "2a0e43f032194729be571a20eb1e5bfd": {
     "model_module": "@jupyter-widgets/base",
     "model_module_version": "1.2.0",
     "model_name": "LayoutModel",
     "state": {
      "_model_module": "@jupyter-widgets/base",
      "_model_module_version": "1.2.0",
      "_model_name": "LayoutModel",
      "_view_count": null,
      "_view_module": "@jupyter-widgets/base",
      "_view_module_version": "1.2.0",
      "_view_name": "LayoutView",
      "align_content": null,
      "align_items": null,
      "align_self": null,
      "border": null,
      "bottom": null,
      "display": null,
      "flex": null,
      "flex_flow": null,
      "grid_area": null,
      "grid_auto_columns": null,
      "grid_auto_flow": null,
      "grid_auto_rows": null,
      "grid_column": null,
      "grid_gap": null,
      "grid_row": null,
      "grid_template_areas": null,
      "grid_template_columns": null,
      "grid_template_rows": null,
      "height": null,
      "justify_content": null,
      "justify_items": null,
      "left": null,
      "margin": null,
      "max_height": null,
      "max_width": null,
      "min_height": null,
      "min_width": null,
      "object_fit": null,
      "object_position": null,
      "order": null,
      "overflow": null,
      "overflow_x": null,
      "overflow_y": null,
      "padding": null,
      "right": null,
      "top": null,
      "visibility": null,
      "width": null
     }
    },
    "2f0de974f4c441b69a729c71c5a393ed": {
     "model_module": "@jupyter-widgets/controls",
     "model_module_version": "1.5.0",
     "model_name": "HTMLModel",
     "state": {
      "_dom_classes": [],
      "_model_module": "@jupyter-widgets/controls",
      "_model_module_version": "1.5.0",
      "_model_name": "HTMLModel",
      "_view_count": null,
      "_view_module": "@jupyter-widgets/controls",
      "_view_module_version": "1.5.0",
      "_view_name": "HTMLView",
      "description": "",
      "description_tooltip": null,
      "layout": "IPY_MODEL_1f356225d380484cb7dd5a5ce17d0e18",
      "placeholder": "​",
      "style": "IPY_MODEL_5f92afaaff5e4759b7c21687106c8e3b",
      "value": "Downloading: 100%"
     }
    },
    "33da35a0e9db448b9f548d2cf29c7a84": {
     "model_module": "@jupyter-widgets/controls",
     "model_module_version": "1.5.0",
     "model_name": "DescriptionStyleModel",
     "state": {
      "_model_module": "@jupyter-widgets/controls",
      "_model_module_version": "1.5.0",
      "_model_name": "DescriptionStyleModel",
      "_view_count": null,
      "_view_module": "@jupyter-widgets/base",
      "_view_module_version": "1.2.0",
      "_view_name": "StyleView",
      "description_width": ""
     }
    },
    "3a6a7005468b405da70516ba3de43ffd": {
     "model_module": "@jupyter-widgets/controls",
     "model_module_version": "1.5.0",
     "model_name": "DescriptionStyleModel",
     "state": {
      "_model_module": "@jupyter-widgets/controls",
      "_model_module_version": "1.5.0",
      "_model_name": "DescriptionStyleModel",
      "_view_count": null,
      "_view_module": "@jupyter-widgets/base",
      "_view_module_version": "1.2.0",
      "_view_name": "StyleView",
      "description_width": ""
     }
    },
    "3ac8c449bbe649a3b09c17238bc37a73": {
     "model_module": "@jupyter-widgets/controls",
     "model_module_version": "1.5.0",
     "model_name": "HTMLModel",
     "state": {
      "_dom_classes": [],
      "_model_module": "@jupyter-widgets/controls",
      "_model_module_version": "1.5.0",
      "_model_name": "HTMLModel",
      "_view_count": null,
      "_view_module": "@jupyter-widgets/controls",
      "_view_module_version": "1.5.0",
      "_view_name": "HTMLView",
      "description": "",
      "description_tooltip": null,
      "layout": "IPY_MODEL_6bcc25d157a44b62b63941c86c39657d",
      "placeholder": "​",
      "style": "IPY_MODEL_ba92d70b1a9344ddbaddd6c6c561ba8a",
      "value": " 226k/226k [00:00&lt;00:00, 5.12MB/s]"
     }
    },
    "3d1b946fc2dc4e8aa21364ec1be2a1ff": {
     "model_module": "@jupyter-widgets/controls",
     "model_module_version": "1.5.0",
     "model_name": "ProgressStyleModel",
     "state": {
      "_model_module": "@jupyter-widgets/controls",
      "_model_module_version": "1.5.0",
      "_model_name": "ProgressStyleModel",
      "_view_count": null,
      "_view_module": "@jupyter-widgets/base",
      "_view_module_version": "1.2.0",
      "_view_name": "StyleView",
      "bar_color": null,
      "description_width": ""
     }
    },
    "3ee8e059f93d4e97890c29f0888f1cc3": {
     "model_module": "@jupyter-widgets/controls",
     "model_module_version": "1.5.0",
     "model_name": "DescriptionStyleModel",
     "state": {
      "_model_module": "@jupyter-widgets/controls",
      "_model_module_version": "1.5.0",
      "_model_name": "DescriptionStyleModel",
      "_view_count": null,
      "_view_module": "@jupyter-widgets/base",
      "_view_module_version": "1.2.0",
      "_view_name": "StyleView",
      "description_width": ""
     }
    },
    "3fa8c55a275544658036c010690dc7f4": {
     "model_module": "@jupyter-widgets/controls",
     "model_module_version": "1.5.0",
     "model_name": "HTMLModel",
     "state": {
      "_dom_classes": [],
      "_model_module": "@jupyter-widgets/controls",
      "_model_module_version": "1.5.0",
      "_model_name": "HTMLModel",
      "_view_count": null,
      "_view_module": "@jupyter-widgets/controls",
      "_view_module_version": "1.5.0",
      "_view_name": "HTMLView",
      "description": "",
      "description_tooltip": null,
      "layout": "IPY_MODEL_6244d77c0d45485187a6f619862371f7",
      "placeholder": "​",
      "style": "IPY_MODEL_3a6a7005468b405da70516ba3de43ffd",
      "value": "Downloading: 100%"
     }
    },
    "4face1cf3c2349dbaa70b9590c526091": {
     "model_module": "@jupyter-widgets/controls",
     "model_module_version": "1.5.0",
     "model_name": "ProgressStyleModel",
     "state": {
      "_model_module": "@jupyter-widgets/controls",
      "_model_module_version": "1.5.0",
      "_model_name": "ProgressStyleModel",
      "_view_count": null,
      "_view_module": "@jupyter-widgets/base",
      "_view_module_version": "1.2.0",
      "_view_name": "StyleView",
      "bar_color": null,
      "description_width": ""
     }
    },
    "5aa6851c08424416b0194dc506e62c75": {
     "model_module": "@jupyter-widgets/base",
     "model_module_version": "1.2.0",
     "model_name": "LayoutModel",
     "state": {
      "_model_module": "@jupyter-widgets/base",
      "_model_module_version": "1.2.0",
      "_model_name": "LayoutModel",
      "_view_count": null,
      "_view_module": "@jupyter-widgets/base",
      "_view_module_version": "1.2.0",
      "_view_name": "LayoutView",
      "align_content": null,
      "align_items": null,
      "align_self": null,
      "border": null,
      "bottom": null,
      "display": null,
      "flex": null,
      "flex_flow": null,
      "grid_area": null,
      "grid_auto_columns": null,
      "grid_auto_flow": null,
      "grid_auto_rows": null,
      "grid_column": null,
      "grid_gap": null,
      "grid_row": null,
      "grid_template_areas": null,
      "grid_template_columns": null,
      "grid_template_rows": null,
      "height": null,
      "justify_content": null,
      "justify_items": null,
      "left": null,
      "margin": null,
      "max_height": null,
      "max_width": null,
      "min_height": null,
      "min_width": null,
      "object_fit": null,
      "object_position": null,
      "order": null,
      "overflow": null,
      "overflow_x": null,
      "overflow_y": null,
      "padding": null,
      "right": null,
      "top": null,
      "visibility": null,
      "width": null
     }
    },
    "5f92afaaff5e4759b7c21687106c8e3b": {
     "model_module": "@jupyter-widgets/controls",
     "model_module_version": "1.5.0",
     "model_name": "DescriptionStyleModel",
     "state": {
      "_model_module": "@jupyter-widgets/controls",
      "_model_module_version": "1.5.0",
      "_model_name": "DescriptionStyleModel",
      "_view_count": null,
      "_view_module": "@jupyter-widgets/base",
      "_view_module_version": "1.2.0",
      "_view_name": "StyleView",
      "description_width": ""
     }
    },
    "6244d77c0d45485187a6f619862371f7": {
     "model_module": "@jupyter-widgets/base",
     "model_module_version": "1.2.0",
     "model_name": "LayoutModel",
     "state": {
      "_model_module": "@jupyter-widgets/base",
      "_model_module_version": "1.2.0",
      "_model_name": "LayoutModel",
      "_view_count": null,
      "_view_module": "@jupyter-widgets/base",
      "_view_module_version": "1.2.0",
      "_view_name": "LayoutView",
      "align_content": null,
      "align_items": null,
      "align_self": null,
      "border": null,
      "bottom": null,
      "display": null,
      "flex": null,
      "flex_flow": null,
      "grid_area": null,
      "grid_auto_columns": null,
      "grid_auto_flow": null,
      "grid_auto_rows": null,
      "grid_column": null,
      "grid_gap": null,
      "grid_row": null,
      "grid_template_areas": null,
      "grid_template_columns": null,
      "grid_template_rows": null,
      "height": null,
      "justify_content": null,
      "justify_items": null,
      "left": null,
      "margin": null,
      "max_height": null,
      "max_width": null,
      "min_height": null,
      "min_width": null,
      "object_fit": null,
      "object_position": null,
      "order": null,
      "overflow": null,
      "overflow_x": null,
      "overflow_y": null,
      "padding": null,
      "right": null,
      "top": null,
      "visibility": null,
      "width": null
     }
    },
    "6a25ccd34b3a4516bf6a1b6a0440e3dc": {
     "model_module": "@jupyter-widgets/controls",
     "model_module_version": "1.5.0",
     "model_name": "FloatProgressModel",
     "state": {
      "_dom_classes": [],
      "_model_module": "@jupyter-widgets/controls",
      "_model_module_version": "1.5.0",
      "_model_name": "FloatProgressModel",
      "_view_count": null,
      "_view_module": "@jupyter-widgets/controls",
      "_view_module_version": "1.5.0",
      "_view_name": "ProgressView",
      "bar_style": "success",
      "description": "",
      "description_tooltip": null,
      "layout": "IPY_MODEL_2a0e43f032194729be571a20eb1e5bfd",
      "max": 231508,
      "min": 0,
      "orientation": "horizontal",
      "style": "IPY_MODEL_d249186d918945f4a9eeff8a37815d7d",
      "value": 231508
     }
    },
    "6bcc25d157a44b62b63941c86c39657d": {
     "model_module": "@jupyter-widgets/base",
     "model_module_version": "1.2.0",
     "model_name": "LayoutModel",
     "state": {
      "_model_module": "@jupyter-widgets/base",
      "_model_module_version": "1.2.0",
      "_model_name": "LayoutModel",
      "_view_count": null,
      "_view_module": "@jupyter-widgets/base",
      "_view_module_version": "1.2.0",
      "_view_name": "LayoutView",
      "align_content": null,
      "align_items": null,
      "align_self": null,
      "border": null,
      "bottom": null,
      "display": null,
      "flex": null,
      "flex_flow": null,
      "grid_area": null,
      "grid_auto_columns": null,
      "grid_auto_flow": null,
      "grid_auto_rows": null,
      "grid_column": null,
      "grid_gap": null,
      "grid_row": null,
      "grid_template_areas": null,
      "grid_template_columns": null,
      "grid_template_rows": null,
      "height": null,
      "justify_content": null,
      "justify_items": null,
      "left": null,
      "margin": null,
      "max_height": null,
      "max_width": null,
      "min_height": null,
      "min_width": null,
      "object_fit": null,
      "object_position": null,
      "order": null,
      "overflow": null,
      "overflow_x": null,
      "overflow_y": null,
      "padding": null,
      "right": null,
      "top": null,
      "visibility": null,
      "width": null
     }
    },
    "6f9ba041d20c4f84a274d009d059c666": {
     "model_module": "@jupyter-widgets/controls",
     "model_module_version": "1.5.0",
     "model_name": "HTMLModel",
     "state": {
      "_dom_classes": [],
      "_model_module": "@jupyter-widgets/controls",
      "_model_module_version": "1.5.0",
      "_model_name": "HTMLModel",
      "_view_count": null,
      "_view_module": "@jupyter-widgets/controls",
      "_view_module_version": "1.5.0",
      "_view_name": "HTMLView",
      "description": "",
      "description_tooltip": null,
      "layout": "IPY_MODEL_156d2dc0753e481e9c64b5b063eaa1ae",
      "placeholder": "​",
      "style": "IPY_MODEL_701fc19fff874f2493a062b163d2f98b",
      "value": "Downloading: 100%"
     }
    },
    "701fc19fff874f2493a062b163d2f98b": {
     "model_module": "@jupyter-widgets/controls",
     "model_module_version": "1.5.0",
     "model_name": "DescriptionStyleModel",
     "state": {
      "_model_module": "@jupyter-widgets/controls",
      "_model_module_version": "1.5.0",
      "_model_name": "DescriptionStyleModel",
      "_view_count": null,
      "_view_module": "@jupyter-widgets/base",
      "_view_module_version": "1.2.0",
      "_view_name": "StyleView",
      "description_width": ""
     }
    },
    "7a7cb807c4a043a390589ef6aefce867": {
     "model_module": "@jupyter-widgets/base",
     "model_module_version": "1.2.0",
     "model_name": "LayoutModel",
     "state": {
      "_model_module": "@jupyter-widgets/base",
      "_model_module_version": "1.2.0",
      "_model_name": "LayoutModel",
      "_view_count": null,
      "_view_module": "@jupyter-widgets/base",
      "_view_module_version": "1.2.0",
      "_view_name": "LayoutView",
      "align_content": null,
      "align_items": null,
      "align_self": null,
      "border": null,
      "bottom": null,
      "display": null,
      "flex": null,
      "flex_flow": null,
      "grid_area": null,
      "grid_auto_columns": null,
      "grid_auto_flow": null,
      "grid_auto_rows": null,
      "grid_column": null,
      "grid_gap": null,
      "grid_row": null,
      "grid_template_areas": null,
      "grid_template_columns": null,
      "grid_template_rows": null,
      "height": null,
      "justify_content": null,
      "justify_items": null,
      "left": null,
      "margin": null,
      "max_height": null,
      "max_width": null,
      "min_height": null,
      "min_width": null,
      "object_fit": null,
      "object_position": null,
      "order": null,
      "overflow": null,
      "overflow_x": null,
      "overflow_y": null,
      "padding": null,
      "right": null,
      "top": null,
      "visibility": null,
      "width": null
     }
    },
    "7ef6b3c7ff8441fb93796ce320dcf87e": {
     "model_module": "@jupyter-widgets/controls",
     "model_module_version": "1.5.0",
     "model_name": "FloatProgressModel",
     "state": {
      "_dom_classes": [],
      "_model_module": "@jupyter-widgets/controls",
      "_model_module_version": "1.5.0",
      "_model_name": "FloatProgressModel",
      "_view_count": null,
      "_view_module": "@jupyter-widgets/controls",
      "_view_module_version": "1.5.0",
      "_view_name": "ProgressView",
      "bar_style": "success",
      "description": "",
      "description_tooltip": null,
      "layout": "IPY_MODEL_18bb3346ca014dcbaaa71517ac671386",
      "max": 28,
      "min": 0,
      "orientation": "horizontal",
      "style": "IPY_MODEL_3d1b946fc2dc4e8aa21364ec1be2a1ff",
      "value": 28
     }
    },
    "84f4857a497641969e498dfa2ead53bb": {
     "model_module": "@jupyter-widgets/base",
     "model_module_version": "1.2.0",
     "model_name": "LayoutModel",
     "state": {
      "_model_module": "@jupyter-widgets/base",
      "_model_module_version": "1.2.0",
      "_model_name": "LayoutModel",
      "_view_count": null,
      "_view_module": "@jupyter-widgets/base",
      "_view_module_version": "1.2.0",
      "_view_name": "LayoutView",
      "align_content": null,
      "align_items": null,
      "align_self": null,
      "border": null,
      "bottom": null,
      "display": null,
      "flex": null,
      "flex_flow": null,
      "grid_area": null,
      "grid_auto_columns": null,
      "grid_auto_flow": null,
      "grid_auto_rows": null,
      "grid_column": null,
      "grid_gap": null,
      "grid_row": null,
      "grid_template_areas": null,
      "grid_template_columns": null,
      "grid_template_rows": null,
      "height": null,
      "justify_content": null,
      "justify_items": null,
      "left": null,
      "margin": null,
      "max_height": null,
      "max_width": null,
      "min_height": null,
      "min_width": null,
      "object_fit": null,
      "object_position": null,
      "order": null,
      "overflow": null,
      "overflow_x": null,
      "overflow_y": null,
      "padding": null,
      "right": null,
      "top": null,
      "visibility": null,
      "width": null
     }
    },
    "8e0a406880ff45cc955b0dd3a404dee3": {
     "model_module": "@jupyter-widgets/controls",
     "model_module_version": "1.5.0",
     "model_name": "HTMLModel",
     "state": {
      "_dom_classes": [],
      "_model_module": "@jupyter-widgets/controls",
      "_model_module_version": "1.5.0",
      "_model_name": "HTMLModel",
      "_view_count": null,
      "_view_module": "@jupyter-widgets/controls",
      "_view_module_version": "1.5.0",
      "_view_name": "HTMLView",
      "description": "",
      "description_tooltip": null,
      "layout": "IPY_MODEL_2143e1c3d9004af2b6ee6aa7586aa93a",
      "placeholder": "​",
      "style": "IPY_MODEL_90b3e9bab23e4ee49a8f7df090c4da62",
      "value": "Downloading: 100%"
     }
    },
    "8f6f63550aa6400b904960e80637dcf7": {
     "model_module": "@jupyter-widgets/controls",
     "model_module_version": "1.5.0",
     "model_name": "DescriptionStyleModel",
     "state": {
      "_model_module": "@jupyter-widgets/controls",
      "_model_module_version": "1.5.0",
      "_model_name": "DescriptionStyleModel",
      "_view_count": null,
      "_view_module": "@jupyter-widgets/base",
      "_view_module_version": "1.2.0",
      "_view_name": "StyleView",
      "description_width": ""
     }
    },
    "90b3e9bab23e4ee49a8f7df090c4da62": {
     "model_module": "@jupyter-widgets/controls",
     "model_module_version": "1.5.0",
     "model_name": "DescriptionStyleModel",
     "state": {
      "_model_module": "@jupyter-widgets/controls",
      "_model_module_version": "1.5.0",
      "_model_name": "DescriptionStyleModel",
      "_view_count": null,
      "_view_module": "@jupyter-widgets/base",
      "_view_module_version": "1.2.0",
      "_view_name": "StyleView",
      "description_width": ""
     }
    },
    "97932647b6f340f5a0d5de00b6c1cfd2": {
     "model_module": "@jupyter-widgets/controls",
     "model_module_version": "1.5.0",
     "model_name": "ProgressStyleModel",
     "state": {
      "_model_module": "@jupyter-widgets/controls",
      "_model_module_version": "1.5.0",
      "_model_name": "ProgressStyleModel",
      "_view_count": null,
      "_view_module": "@jupyter-widgets/base",
      "_view_module_version": "1.2.0",
      "_view_name": "StyleView",
      "bar_color": null,
      "description_width": ""
     }
    },
    "9827451e5790400f9b2a1c5cbaf6b4a8": {
     "model_module": "@jupyter-widgets/controls",
     "model_module_version": "1.5.0",
     "model_name": "DescriptionStyleModel",
     "state": {
      "_model_module": "@jupyter-widgets/controls",
      "_model_module_version": "1.5.0",
      "_model_name": "DescriptionStyleModel",
      "_view_count": null,
      "_view_module": "@jupyter-widgets/base",
      "_view_module_version": "1.2.0",
      "_view_name": "StyleView",
      "description_width": ""
     }
    },
    "98b2d04eb4714bc0b3ad420b408be2ca": {
     "model_module": "@jupyter-widgets/controls",
     "model_module_version": "1.5.0",
     "model_name": "HTMLModel",
     "state": {
      "_dom_classes": [],
      "_model_module": "@jupyter-widgets/controls",
      "_model_module_version": "1.5.0",
      "_model_name": "HTMLModel",
      "_view_count": null,
      "_view_module": "@jupyter-widgets/controls",
      "_view_module_version": "1.5.0",
      "_view_name": "HTMLView",
      "description": "",
      "description_tooltip": null,
      "layout": "IPY_MODEL_1c1dc89252834037927e7b6af069f8a6",
      "placeholder": "​",
      "style": "IPY_MODEL_3ee8e059f93d4e97890c29f0888f1cc3",
      "value": " 347M/347M [00:07&lt;00:00, 56.9MB/s]"
     }
    },
    "abc5d35ca07c4eed908f55403014b8a5": {
     "model_module": "@jupyter-widgets/base",
     "model_module_version": "1.2.0",
     "model_name": "LayoutModel",
     "state": {
      "_model_module": "@jupyter-widgets/base",
      "_model_module_version": "1.2.0",
      "_model_name": "LayoutModel",
      "_view_count": null,
      "_view_module": "@jupyter-widgets/base",
      "_view_module_version": "1.2.0",
      "_view_name": "LayoutView",
      "align_content": null,
      "align_items": null,
      "align_self": null,
      "border": null,
      "bottom": null,
      "display": null,
      "flex": null,
      "flex_flow": null,
      "grid_area": null,
      "grid_auto_columns": null,
      "grid_auto_flow": null,
      "grid_auto_rows": null,
      "grid_column": null,
      "grid_gap": null,
      "grid_row": null,
      "grid_template_areas": null,
      "grid_template_columns": null,
      "grid_template_rows": null,
      "height": null,
      "justify_content": null,
      "justify_items": null,
      "left": null,
      "margin": null,
      "max_height": null,
      "max_width": null,
      "min_height": null,
      "min_width": null,
      "object_fit": null,
      "object_position": null,
      "order": null,
      "overflow": null,
      "overflow_x": null,
      "overflow_y": null,
      "padding": null,
      "right": null,
      "top": null,
      "visibility": null,
      "width": null
     }
    },
    "b0081f51763d4747b305f670eae0f037": {
     "model_module": "@jupyter-widgets/controls",
     "model_module_version": "1.5.0",
     "model_name": "FloatProgressModel",
     "state": {
      "_dom_classes": [],
      "_model_module": "@jupyter-widgets/controls",
      "_model_module_version": "1.5.0",
      "_model_name": "FloatProgressModel",
      "_view_count": null,
      "_view_module": "@jupyter-widgets/controls",
      "_view_module_version": "1.5.0",
      "_view_name": "ProgressView",
      "bar_style": "success",
      "description": "",
      "description_tooltip": null,
      "layout": "IPY_MODEL_84f4857a497641969e498dfa2ead53bb",
      "max": 483,
      "min": 0,
      "orientation": "horizontal",
      "style": "IPY_MODEL_97932647b6f340f5a0d5de00b6c1cfd2",
      "value": 483
     }
    },
    "b7e539ceaddd41d19cd21854e5d2a5b1": {
     "model_module": "@jupyter-widgets/controls",
     "model_module_version": "1.5.0",
     "model_name": "DescriptionStyleModel",
     "state": {
      "_model_module": "@jupyter-widgets/controls",
      "_model_module_version": "1.5.0",
      "_model_name": "DescriptionStyleModel",
      "_view_count": null,
      "_view_module": "@jupyter-widgets/base",
      "_view_module_version": "1.2.0",
      "_view_name": "StyleView",
      "description_width": ""
     }
    },
    "b9c2909dd3df4d32a15d5a0c8fff9608": {
     "model_module": "@jupyter-widgets/controls",
     "model_module_version": "1.5.0",
     "model_name": "HTMLModel",
     "state": {
      "_dom_classes": [],
      "_model_module": "@jupyter-widgets/controls",
      "_model_module_version": "1.5.0",
      "_model_name": "HTMLModel",
      "_view_count": null,
      "_view_module": "@jupyter-widgets/controls",
      "_view_module_version": "1.5.0",
      "_view_name": "HTMLView",
      "description": "",
      "description_tooltip": null,
      "layout": "IPY_MODEL_7a7cb807c4a043a390589ef6aefce867",
      "placeholder": "​",
      "style": "IPY_MODEL_33da35a0e9db448b9f548d2cf29c7a84",
      "value": " 483/483 [00:00&lt;00:00, 16.2kB/s]"
     }
    },
    "ba92d70b1a9344ddbaddd6c6c561ba8a": {
     "model_module": "@jupyter-widgets/controls",
     "model_module_version": "1.5.0",
     "model_name": "DescriptionStyleModel",
     "state": {
      "_model_module": "@jupyter-widgets/controls",
      "_model_module_version": "1.5.0",
      "_model_name": "DescriptionStyleModel",
      "_view_count": null,
      "_view_module": "@jupyter-widgets/base",
      "_view_module_version": "1.2.0",
      "_view_name": "StyleView",
      "description_width": ""
     }
    },
    "bcfc08c6fe7b4c05b265c37e5993297e": {
     "model_module": "@jupyter-widgets/controls",
     "model_module_version": "1.5.0",
     "model_name": "HBoxModel",
     "state": {
      "_dom_classes": [],
      "_model_module": "@jupyter-widgets/controls",
      "_model_module_version": "1.5.0",
      "_model_name": "HBoxModel",
      "_view_count": null,
      "_view_module": "@jupyter-widgets/controls",
      "_view_module_version": "1.5.0",
      "_view_name": "HBoxView",
      "box_style": "",
      "children": [
       "IPY_MODEL_8e0a406880ff45cc955b0dd3a404dee3",
       "IPY_MODEL_6a25ccd34b3a4516bf6a1b6a0440e3dc",
       "IPY_MODEL_3ac8c449bbe649a3b09c17238bc37a73"
      ],
      "layout": "IPY_MODEL_201855922f3441e6bb87ea68dcab731b"
     }
    },
    "c776e2f56fe24cd188178d88f20528dd": {
     "model_module": "@jupyter-widgets/base",
     "model_module_version": "1.2.0",
     "model_name": "LayoutModel",
     "state": {
      "_model_module": "@jupyter-widgets/base",
      "_model_module_version": "1.2.0",
      "_model_name": "LayoutModel",
      "_view_count": null,
      "_view_module": "@jupyter-widgets/base",
      "_view_module_version": "1.2.0",
      "_view_name": "LayoutView",
      "align_content": null,
      "align_items": null,
      "align_self": null,
      "border": null,
      "bottom": null,
      "display": null,
      "flex": null,
      "flex_flow": null,
      "grid_area": null,
      "grid_auto_columns": null,
      "grid_auto_flow": null,
      "grid_auto_rows": null,
      "grid_column": null,
      "grid_gap": null,
      "grid_row": null,
      "grid_template_areas": null,
      "grid_template_columns": null,
      "grid_template_rows": null,
      "height": null,
      "justify_content": null,
      "justify_items": null,
      "left": null,
      "margin": null,
      "max_height": null,
      "max_width": null,
      "min_height": null,
      "min_width": null,
      "object_fit": null,
      "object_position": null,
      "order": null,
      "overflow": null,
      "overflow_x": null,
      "overflow_y": null,
      "padding": null,
      "right": null,
      "top": null,
      "visibility": null,
      "width": null
     }
    },
    "d249186d918945f4a9eeff8a37815d7d": {
     "model_module": "@jupyter-widgets/controls",
     "model_module_version": "1.5.0",
     "model_name": "ProgressStyleModel",
     "state": {
      "_model_module": "@jupyter-widgets/controls",
      "_model_module_version": "1.5.0",
      "_model_name": "ProgressStyleModel",
      "_view_count": null,
      "_view_module": "@jupyter-widgets/base",
      "_view_module_version": "1.2.0",
      "_view_name": "StyleView",
      "bar_color": null,
      "description_width": ""
     }
    },
    "d2cc842ad668401d93dd3a756cf1f8c7": {
     "model_module": "@jupyter-widgets/controls",
     "model_module_version": "1.5.0",
     "model_name": "FloatProgressModel",
     "state": {
      "_dom_classes": [],
      "_model_module": "@jupyter-widgets/controls",
      "_model_module_version": "1.5.0",
      "_model_name": "FloatProgressModel",
      "_view_count": null,
      "_view_module": "@jupyter-widgets/controls",
      "_view_module_version": "1.5.0",
      "_view_name": "ProgressView",
      "bar_style": "success",
      "description": "",
      "description_tooltip": null,
      "layout": "IPY_MODEL_5aa6851c08424416b0194dc506e62c75",
      "max": 363423424,
      "min": 0,
      "orientation": "horizontal",
      "style": "IPY_MODEL_15f734c5aa9e4bd0b5e6b05d7e61e8c7",
      "value": 363423424
     }
    },
    "d377ee0a8ddd485d9f99ac0cdc5970c8": {
     "model_module": "@jupyter-widgets/controls",
     "model_module_version": "1.5.0",
     "model_name": "HBoxModel",
     "state": {
      "_dom_classes": [],
      "_model_module": "@jupyter-widgets/controls",
      "_model_module_version": "1.5.0",
      "_model_name": "HBoxModel",
      "_view_count": null,
      "_view_module": "@jupyter-widgets/controls",
      "_view_module_version": "1.5.0",
      "_view_name": "HBoxView",
      "box_style": "",
      "children": [
       "IPY_MODEL_1b051064b7084e968c1246e275fc884c",
       "IPY_MODEL_d2cc842ad668401d93dd3a756cf1f8c7",
       "IPY_MODEL_98b2d04eb4714bc0b3ad420b408be2ca"
      ],
      "layout": "IPY_MODEL_e8eacf4248404e489c6220591b8feee2"
     }
    },
    "d4f5e0540dc2422cacc1a9b47e3699f3": {
     "model_module": "@jupyter-widgets/base",
     "model_module_version": "1.2.0",
     "model_name": "LayoutModel",
     "state": {
      "_model_module": "@jupyter-widgets/base",
      "_model_module_version": "1.2.0",
      "_model_name": "LayoutModel",
      "_view_count": null,
      "_view_module": "@jupyter-widgets/base",
      "_view_module_version": "1.2.0",
      "_view_name": "LayoutView",
      "align_content": null,
      "align_items": null,
      "align_self": null,
      "border": null,
      "bottom": null,
      "display": null,
      "flex": null,
      "flex_flow": null,
      "grid_area": null,
      "grid_auto_columns": null,
      "grid_auto_flow": null,
      "grid_auto_rows": null,
      "grid_column": null,
      "grid_gap": null,
      "grid_row": null,
      "grid_template_areas": null,
      "grid_template_columns": null,
      "grid_template_rows": null,
      "height": null,
      "justify_content": null,
      "justify_items": null,
      "left": null,
      "margin": null,
      "max_height": null,
      "max_width": null,
      "min_height": null,
      "min_width": null,
      "object_fit": null,
      "object_position": null,
      "order": null,
      "overflow": null,
      "overflow_x": null,
      "overflow_y": null,
      "padding": null,
      "right": null,
      "top": null,
      "visibility": null,
      "width": null
     }
    },
    "e07e2025e4624168aa5c33ec8ac09d7b": {
     "model_module": "@jupyter-widgets/controls",
     "model_module_version": "1.5.0",
     "model_name": "HTMLModel",
     "state": {
      "_dom_classes": [],
      "_model_module": "@jupyter-widgets/controls",
      "_model_module_version": "1.5.0",
      "_model_name": "HTMLModel",
      "_view_count": null,
      "_view_module": "@jupyter-widgets/controls",
      "_view_module_version": "1.5.0",
      "_view_name": "HTMLView",
      "description": "",
      "description_tooltip": null,
      "layout": "IPY_MODEL_c776e2f56fe24cd188178d88f20528dd",
      "placeholder": "​",
      "style": "IPY_MODEL_8f6f63550aa6400b904960e80637dcf7",
      "value": " 28.0/28.0 [00:00&lt;00:00, 894B/s]"
     }
    },
    "e8eacf4248404e489c6220591b8feee2": {
     "model_module": "@jupyter-widgets/base",
     "model_module_version": "1.2.0",
     "model_name": "LayoutModel",
     "state": {
      "_model_module": "@jupyter-widgets/base",
      "_model_module_version": "1.2.0",
      "_model_name": "LayoutModel",
      "_view_count": null,
      "_view_module": "@jupyter-widgets/base",
      "_view_module_version": "1.2.0",
      "_view_name": "LayoutView",
      "align_content": null,
      "align_items": null,
      "align_self": null,
      "border": null,
      "bottom": null,
      "display": null,
      "flex": null,
      "flex_flow": null,
      "grid_area": null,
      "grid_auto_columns": null,
      "grid_auto_flow": null,
      "grid_auto_rows": null,
      "grid_column": null,
      "grid_gap": null,
      "grid_row": null,
      "grid_template_areas": null,
      "grid_template_columns": null,
      "grid_template_rows": null,
      "height": null,
      "justify_content": null,
      "justify_items": null,
      "left": null,
      "margin": null,
      "max_height": null,
      "max_width": null,
      "min_height": null,
      "min_width": null,
      "object_fit": null,
      "object_position": null,
      "order": null,
      "overflow": null,
      "overflow_x": null,
      "overflow_y": null,
      "padding": null,
      "right": null,
      "top": null,
      "visibility": null,
      "width": null
     }
    },
    "e963b53cda494dea84df4c5bdbd3b53d": {
     "model_module": "@jupyter-widgets/base",
     "model_module_version": "1.2.0",
     "model_name": "LayoutModel",
     "state": {
      "_model_module": "@jupyter-widgets/base",
      "_model_module_version": "1.2.0",
      "_model_name": "LayoutModel",
      "_view_count": null,
      "_view_module": "@jupyter-widgets/base",
      "_view_module_version": "1.2.0",
      "_view_name": "LayoutView",
      "align_content": null,
      "align_items": null,
      "align_self": null,
      "border": null,
      "bottom": null,
      "display": null,
      "flex": null,
      "flex_flow": null,
      "grid_area": null,
      "grid_auto_columns": null,
      "grid_auto_flow": null,
      "grid_auto_rows": null,
      "grid_column": null,
      "grid_gap": null,
      "grid_row": null,
      "grid_template_areas": null,
      "grid_template_columns": null,
      "grid_template_rows": null,
      "height": null,
      "justify_content": null,
      "justify_items": null,
      "left": null,
      "margin": null,
      "max_height": null,
      "max_width": null,
      "min_height": null,
      "min_width": null,
      "object_fit": null,
      "object_position": null,
      "order": null,
      "overflow": null,
      "overflow_x": null,
      "overflow_y": null,
      "padding": null,
      "right": null,
      "top": null,
      "visibility": null,
      "width": null
     }
    },
    "f064c00dc25841b990b57c1f776c00a0": {
     "model_module": "@jupyter-widgets/controls",
     "model_module_version": "1.5.0",
     "model_name": "HBoxModel",
     "state": {
      "_dom_classes": [],
      "_model_module": "@jupyter-widgets/controls",
      "_model_module_version": "1.5.0",
      "_model_name": "HBoxModel",
      "_view_count": null,
      "_view_module": "@jupyter-widgets/controls",
      "_view_module_version": "1.5.0",
      "_view_name": "HBoxView",
      "box_style": "",
      "children": [
       "IPY_MODEL_3fa8c55a275544658036c010690dc7f4",
       "IPY_MODEL_b0081f51763d4747b305f670eae0f037",
       "IPY_MODEL_b9c2909dd3df4d32a15d5a0c8fff9608"
      ],
      "layout": "IPY_MODEL_057a80dd0d764158a7fa7804b0d8a7f2"
     }
    },
    "f8f6a4eddb36415ab2a4ab084b7d850a": {
     "model_module": "@jupyter-widgets/base",
     "model_module_version": "1.2.0",
     "model_name": "LayoutModel",
     "state": {
      "_model_module": "@jupyter-widgets/base",
      "_model_module_version": "1.2.0",
      "_model_name": "LayoutModel",
      "_view_count": null,
      "_view_module": "@jupyter-widgets/base",
      "_view_module_version": "1.2.0",
      "_view_name": "LayoutView",
      "align_content": null,
      "align_items": null,
      "align_self": null,
      "border": null,
      "bottom": null,
      "display": null,
      "flex": null,
      "flex_flow": null,
      "grid_area": null,
      "grid_auto_columns": null,
      "grid_auto_flow": null,
      "grid_auto_rows": null,
      "grid_column": null,
      "grid_gap": null,
      "grid_row": null,
      "grid_template_areas": null,
      "grid_template_columns": null,
      "grid_template_rows": null,
      "height": null,
      "justify_content": null,
      "justify_items": null,
      "left": null,
      "margin": null,
      "max_height": null,
      "max_width": null,
      "min_height": null,
      "min_width": null,
      "object_fit": null,
      "object_position": null,
      "order": null,
      "overflow": null,
      "overflow_x": null,
      "overflow_y": null,
      "padding": null,
      "right": null,
      "top": null,
      "visibility": null,
      "width": null
     }
    }
   }
  }
 },
 "nbformat": 4,
 "nbformat_minor": 5
}
